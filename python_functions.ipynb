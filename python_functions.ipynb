{
  "nbformat": 4,
  "nbformat_minor": 0,
  "metadata": {
    "colab": {
      "provenance": []
    },
    "kernelspec": {
      "name": "python3",
      "display_name": "Python 3"
    },
    "language_info": {
      "name": "python"
    }
  },
  "cells": [
    {
      "cell_type": "markdown",
      "source": [
        "#function:\n",
        "* A function is a block of code which only runs when it is called.\n",
        "\n",
        "* You can pass data, known as parameters, into a function.\n",
        "\n",
        "* A function can return data as a result."
      ],
      "metadata": {
        "id": "yHhKlY04nr37"
      }
    },
    {
      "cell_type": "code",
      "execution_count": 1,
      "metadata": {
        "id": "B0cf_se4nmJF"
      },
      "outputs": [],
      "source": [
        "def my_function():\n",
        "  print(\"Hello from a function\")"
      ]
    },
    {
      "cell_type": "code",
      "source": [
        "#user defined function\n",
        "\n",
        "def sum(a,b):\n",
        "  sum= a+b\n",
        "  print(sum)"
      ],
      "metadata": {
        "id": "SmgZk6or_42M"
      },
      "execution_count": 2,
      "outputs": []
    },
    {
      "cell_type": "code",
      "source": [
        "a=int(input(\"enter a value :\"))\n",
        "b=int(input(\"enter b value :\"))\n",
        "sum(a,b)"
      ],
      "metadata": {
        "colab": {
          "base_uri": "https://localhost:8080/"
        },
        "id": "o3Pcsw2CAa0Y",
        "outputId": "08bf4667-cecf-4f1a-ef45-07e1000ee740"
      },
      "execution_count": 3,
      "outputs": [
        {
          "output_type": "stream",
          "name": "stdout",
          "text": [
            "enter a value :10\n",
            "enter b value :20\n",
            "30\n"
          ]
        }
      ]
    },
    {
      "cell_type": "code",
      "source": [
        "def arith(num1,num2):\n",
        "  sum= num1+num2\n",
        "  sub= num1-num2\n",
        "  mul= num1*num2\n",
        "  div= num1/num2\n",
        "  mod= num1%num2\n",
        "\n",
        "  print('sum',sum)\n",
        "  print('sub',sub)\n",
        "  print('mul',mul)\n",
        "  print('div',div)\n",
        "  print('mod',mod)"
      ],
      "metadata": {
        "id": "UO4Pj-zqAken"
      },
      "execution_count": 4,
      "outputs": []
    },
    {
      "cell_type": "code",
      "source": [
        "arith(5,12)"
      ],
      "metadata": {
        "colab": {
          "base_uri": "https://localhost:8080/"
        },
        "id": "sCELGoB1BZVw",
        "outputId": "83ee84f1-d10c-49b2-87f9-87d37b5450b9"
      },
      "execution_count": 5,
      "outputs": [
        {
          "output_type": "stream",
          "name": "stdout",
          "text": [
            "sum 17\n",
            "sub -7\n",
            "mul 60\n",
            "div 0.4166666666666667\n",
            "mod 5\n"
          ]
        }
      ]
    },
    {
      "cell_type": "code",
      "source": [
        "user = input(\" enter your char :\")\n",
        "vowels =['a','e','i','o','u']\n",
        "\n",
        "def find_vowel(user):\n",
        "  if (user.lower() in vowels):\n",
        "    print(f\"{user}is a vowel\")\n",
        "  else:\n",
        "    print(f\"{user}is not a vowel\")\n",
        "find_vowel(user)"
      ],
      "metadata": {
        "colab": {
          "base_uri": "https://localhost:8080/"
        },
        "id": "65v4Q9daBeM5",
        "outputId": "d21fbf70-8abc-4a77-db12-9b7227135e31"
      },
      "execution_count": 11,
      "outputs": [
        {
          "output_type": "stream",
          "name": "stdout",
          "text": [
            " enter your char :A\n",
            "Ais a vowel\n"
          ]
        }
      ]
    },
    {
      "cell_type": "code",
      "source": [
        "#return statements\n",
        "\n",
        "def mul(a,b):\n",
        "  mul = a*b\n",
        "  print(mul)\n",
        "  return mul\n"
      ],
      "metadata": {
        "id": "5gPJRHIWF7uY"
      },
      "execution_count": 12,
      "outputs": []
    },
    {
      "cell_type": "code",
      "source": [
        "mul(4,2)"
      ],
      "metadata": {
        "colab": {
          "base_uri": "https://localhost:8080/"
        },
        "id": "GHh_p6xGGLDD",
        "outputId": "e845c440-5e75-4a41-cf00-6a891939597e"
      },
      "execution_count": 13,
      "outputs": [
        {
          "output_type": "stream",
          "name": "stdout",
          "text": [
            "8\n"
          ]
        },
        {
          "output_type": "execute_result",
          "data": {
            "text/plain": [
              "8"
            ]
          },
          "metadata": {},
          "execution_count": 13
        }
      ]
    },
    {
      "cell_type": "markdown",
      "source": [
        "# lambda function:\n",
        "* A lambda function is a small anonymous function.\n",
        "\n",
        "* A lambda function can take any number of arguments, but can only have one expression."
      ],
      "metadata": {
        "id": "QHL3RXBkp7ut"
      }
    },
    {
      "cell_type": "code",
      "source": [
        "# lamda funtion\n",
        "\n",
        "f = lambda y : y + 100\n",
        "print(f(5))"
      ],
      "metadata": {
        "colab": {
          "base_uri": "https://localhost:8080/"
        },
        "id": "jHsLaZzOGOuz",
        "outputId": "84173610-f678-4225-9270-777b63e41f80"
      },
      "execution_count": 14,
      "outputs": [
        {
          "output_type": "stream",
          "name": "stdout",
          "text": [
            "105\n"
          ]
        }
      ]
    },
    {
      "cell_type": "code",
      "source": [
        "mul = lambda x ,y :x * y\n",
        "print(mul(4,2))"
      ],
      "metadata": {
        "colab": {
          "base_uri": "https://localhost:8080/"
        },
        "id": "L7VO5ziKGf-v",
        "outputId": "8a6cc73e-1752-4e4b-9688-5b162054bc04"
      },
      "execution_count": 15,
      "outputs": [
        {
          "output_type": "stream",
          "name": "stdout",
          "text": [
            "8\n"
          ]
        }
      ]
    },
    {
      "cell_type": "code",
      "source": [
        "def find():\n",
        "  lam= lambda x,y : x + y\n",
        "  return lam"
      ],
      "metadata": {
        "id": "1cCREFcoJSwm"
      },
      "execution_count": 16,
      "outputs": []
    },
    {
      "cell_type": "code",
      "source": [
        "h=find()\n",
        "print(h(3,4))"
      ],
      "metadata": {
        "colab": {
          "base_uri": "https://localhost:8080/"
        },
        "id": "RwE1wZuLJhgN",
        "outputId": "1952afb7-8b43-46da-ef08-de41b979b371"
      },
      "execution_count": 17,
      "outputs": [
        {
          "output_type": "stream",
          "name": "stdout",
          "text": [
            "7\n"
          ]
        }
      ]
    },
    {
      "cell_type": "code",
      "source": [
        "lam = lambda x,y,z : x+ y * z"
      ],
      "metadata": {
        "id": "tf73ZQcvJov8"
      },
      "execution_count": 21,
      "outputs": []
    },
    {
      "cell_type": "code",
      "source": [
        "print(lam(3,4,5))"
      ],
      "metadata": {
        "colab": {
          "base_uri": "https://localhost:8080/"
        },
        "id": "cAMQHnDOKGZY",
        "outputId": "f42e7457-9abe-4922-e321-1b63b0e02bf5"
      },
      "execution_count": 19,
      "outputs": [
        {
          "output_type": "stream",
          "name": "stdout",
          "text": [
            "12\n"
          ]
        }
      ]
    },
    {
      "cell_type": "markdown",
      "source": [
        "# global and local varible:\n",
        "* Global variables are those which are not defined inside any function and have a global scope\n",
        "* local variables are those which are defined inside a function and their scope is limited to that function only."
      ],
      "metadata": {
        "id": "hM6cMVxEr7tt"
      }
    },
    {
      "cell_type": "code",
      "source": [
        "# local and global variable\n",
        "glob=\"hello world\"\n",
        "\n",
        "def local():\n",
        "  local=(\"local variable\")\n",
        "  print(local)\n",
        "  print(glob)"
      ],
      "metadata": {
        "id": "vTyj8XCiKIe4"
      },
      "execution_count": 22,
      "outputs": []
    },
    {
      "cell_type": "code",
      "source": [
        "print(glob)"
      ],
      "metadata": {
        "colab": {
          "base_uri": "https://localhost:8080/"
        },
        "id": "Nwa6pQAfrZll",
        "outputId": "b204a2da-0520-4fb9-82cf-49cdccfd1bb9"
      },
      "execution_count": 24,
      "outputs": [
        {
          "output_type": "stream",
          "name": "stdout",
          "text": [
            "hello world\n"
          ]
        }
      ]
    },
    {
      "cell_type": "code",
      "source": [
        "# print(local)\n",
        "local()"
      ],
      "metadata": {
        "colab": {
          "base_uri": "https://localhost:8080/"
        },
        "id": "xP5EtbifKgaf",
        "outputId": "9088f8ea-cef7-4e76-a82c-9501914c85eb"
      },
      "execution_count": 25,
      "outputs": [
        {
          "output_type": "stream",
          "name": "stdout",
          "text": [
            "local variable\n",
            "hello world\n"
          ]
        }
      ]
    }
  ]
}