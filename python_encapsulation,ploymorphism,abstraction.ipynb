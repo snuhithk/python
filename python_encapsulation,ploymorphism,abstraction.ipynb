{
  "nbformat": 4,
  "nbformat_minor": 0,
  "metadata": {
    "colab": {
      "provenance": []
    },
    "kernelspec": {
      "name": "python3",
      "display_name": "Python 3"
    },
    "language_info": {
      "name": "python"
    }
  },
  "cells": [
    {
      "cell_type": "markdown",
      "source": [
        "#encapsulation:\n",
        " * encapsulation refers to the bundling of data (attributes) and methods (functions) that operate on the data into a single unit, typically a class. It also restricts direct access to some components, which helps protect the integrity of the data and ensures proper usage."
      ],
      "metadata": {
        "id": "B_GiXqP-xXqr"
      }
    },
    {
      "cell_type": "code",
      "source": [
        "#python encapsulation\n",
        "\n",
        "class demo:\n",
        "  def __init__(self,a,b):\n",
        "    self.__a= a #private\n",
        "    self._b = b #protected\n",
        "    print(self.__a)\n",
        "\n",
        "  def output(self):\n",
        "    print(self.__a)\n",
        "    print(self._b)\n",
        "\n",
        "class demo1(demo):\n",
        "  def input(self):\n",
        "    print(self._b)\n",
        "\n",
        "  def private(self):\n",
        "    print(self.__a)"
      ],
      "metadata": {
        "id": "5vHeKFfJkQy0"
      },
      "execution_count": 1,
      "outputs": []
    },
    {
      "cell_type": "code",
      "source": [
        "h = demo(3,4)"
      ],
      "metadata": {
        "colab": {
          "base_uri": "https://localhost:8080/"
        },
        "id": "GJj9P68ypkGS",
        "outputId": "934a7f6b-9f4b-4fe3-e437-a4cfa1f12a8b"
      },
      "execution_count": 2,
      "outputs": [
        {
          "output_type": "stream",
          "name": "stdout",
          "text": [
            "3\n"
          ]
        }
      ]
    },
    {
      "cell_type": "code",
      "source": [
        "h.output()"
      ],
      "metadata": {
        "colab": {
          "base_uri": "https://localhost:8080/"
        },
        "id": "UHnz0X1LqWCj",
        "outputId": "610e6cec-a38a-41ea-a2ce-81009b0af57d"
      },
      "execution_count": 3,
      "outputs": [
        {
          "output_type": "stream",
          "name": "stdout",
          "text": [
            "3\n",
            "4\n"
          ]
        }
      ]
    },
    {
      "cell_type": "code",
      "source": [
        "class animal:\n",
        "  def __init__(self,name,age):\n",
        "    self.__name = name\n",
        "    self._age = age\n",
        "\n",
        "  def get_name(self):\n",
        "    print(self.__name)\n"
      ],
      "metadata": {
        "id": "fzkMMmFBfcna"
      },
      "execution_count": 4,
      "outputs": []
    },
    {
      "cell_type": "code",
      "source": [
        "ani = animal(\"dog\",10)"
      ],
      "metadata": {
        "id": "ETkbk5kEhLCj"
      },
      "execution_count": 5,
      "outputs": []
    },
    {
      "cell_type": "code",
      "source": [
        "ani.get_name()"
      ],
      "metadata": {
        "colab": {
          "base_uri": "https://localhost:8080/"
        },
        "id": "yhxp8KSyhVPb",
        "outputId": "2fb6b112-d19d-47d0-fc45-5f3d1d1aca31"
      },
      "execution_count": 6,
      "outputs": [
        {
          "output_type": "stream",
          "name": "stdout",
          "text": [
            "dog\n"
          ]
        }
      ]
    },
    {
      "cell_type": "code",
      "source": [
        "class bus:\n",
        "    def __init__(self,name,model):\n",
        "      self.__name = name\n",
        "      self._model = model\n",
        "\n",
        "    def horn(self):\n",
        "      print(\"bus is old\")\n",
        "\n",
        "class bus1(bus):\n",
        "    def new(self):\n",
        "        print(\"bus is new\")"
      ],
      "metadata": {
        "id": "BkKUBroxk-BD"
      },
      "execution_count": 7,
      "outputs": []
    },
    {
      "cell_type": "code",
      "source": [
        "obj = bus1(\"volvo\",\"2020\")"
      ],
      "metadata": {
        "id": "oyJU5iQ_lZSa"
      },
      "execution_count": 8,
      "outputs": []
    },
    {
      "cell_type": "code",
      "source": [
        "obj.horn()"
      ],
      "metadata": {
        "colab": {
          "base_uri": "https://localhost:8080/"
        },
        "id": "EbRM8V86ocWx",
        "outputId": "dd01720a-5fb0-4ccd-8cd5-3a53ad77b14d"
      },
      "execution_count": 9,
      "outputs": [
        {
          "output_type": "stream",
          "name": "stdout",
          "text": [
            "bus is old\n"
          ]
        }
      ]
    },
    {
      "cell_type": "code",
      "source": [
        "obj.new()"
      ],
      "metadata": {
        "colab": {
          "base_uri": "https://localhost:8080/"
        },
        "id": "Vo_osVIOofGm",
        "outputId": "5c196053-6211-4ae1-e88e-e1aef6b97e51"
      },
      "execution_count": 10,
      "outputs": [
        {
          "output_type": "stream",
          "name": "stdout",
          "text": [
            "bus is new\n"
          ]
        }
      ]
    },
    {
      "cell_type": "markdown",
      "source": [
        "# polymorphism:\n",
        "* The word \"polymorphism\" means \"many forms\", and in programming it refers to methods/functions/operators with the same name that can be executed on many objects or classes."
      ],
      "metadata": {
        "id": "K-_4BZ0BxzUR"
      }
    },
    {
      "cell_type": "code",
      "source": [
        "# ploymorphism()\n",
        "\n",
        "class num:\n",
        "  def __init__(self,a,b):\n",
        "    sum= a+b\n",
        "    print(sum)\n",
        "\n",
        "class num1:\n",
        "  def __init__(self,a,b):\n",
        "    mul= a*b\n",
        "    print(mul)\n"
      ],
      "metadata": {
        "id": "cyMtLfEIoykn"
      },
      "execution_count": null,
      "outputs": []
    },
    {
      "cell_type": "code",
      "source": [
        "obj = num(10,20)"
      ],
      "metadata": {
        "colab": {
          "base_uri": "https://localhost:8080/"
        },
        "id": "HNsFuvhQprlS",
        "outputId": "6c2d983e-f24d-483b-cf58-085a7cbef18b"
      },
      "execution_count": null,
      "outputs": [
        {
          "output_type": "stream",
          "name": "stdout",
          "text": [
            "30\n"
          ]
        }
      ]
    },
    {
      "cell_type": "code",
      "source": [
        "obj =  num1(10,20)"
      ],
      "metadata": {
        "colab": {
          "base_uri": "https://localhost:8080/"
        },
        "id": "880V4v5JpxNs",
        "outputId": "1110e7e5-6cb4-46fe-a6e2-4c9a8500833f"
      },
      "execution_count": null,
      "outputs": [
        {
          "output_type": "stream",
          "name": "stdout",
          "text": [
            "200\n"
          ]
        }
      ]
    },
    {
      "cell_type": "code",
      "source": [
        "obj= num(23.23,33.34)"
      ],
      "metadata": {
        "colab": {
          "base_uri": "https://localhost:8080/"
        },
        "id": "xKmD8kBHp_B3",
        "outputId": "f4504534-03eb-439d-ad45-158be3ca762d"
      },
      "execution_count": null,
      "outputs": [
        {
          "output_type": "stream",
          "name": "stdout",
          "text": [
            "56.57000000000001\n"
          ]
        }
      ]
    },
    {
      "cell_type": "code",
      "source": [
        "obj1 =num(1+2j,1+3j)"
      ],
      "metadata": {
        "colab": {
          "base_uri": "https://localhost:8080/"
        },
        "id": "9yMQq3o4qDmn",
        "outputId": "15eb6263-cf27-4eee-e16b-661c35b9123a"
      },
      "execution_count": null,
      "outputs": [
        {
          "output_type": "stream",
          "name": "stdout",
          "text": [
            "(2+5j)\n"
          ]
        }
      ]
    },
    {
      "cell_type": "code",
      "source": [
        "obj2= num((1,2,3),(4,5,6))"
      ],
      "metadata": {
        "colab": {
          "base_uri": "https://localhost:8080/"
        },
        "id": "WAsJ1u0oqInn",
        "outputId": "bfecc1bb-5fbf-4730-a2a7-3b7397add8b5"
      },
      "execution_count": null,
      "outputs": [
        {
          "output_type": "stream",
          "name": "stdout",
          "text": [
            "(1, 2, 3, 4, 5, 6)\n"
          ]
        }
      ]
    },
    {
      "cell_type": "markdown",
      "source": [
        "#Data Abstraction:\n",
        "* Data abstraction is one of the most essential concepts of Python OOPs which is used to hide irrelevant details from the user and show the details that are relevant to the users."
      ],
      "metadata": {
        "id": "JIM9Q66HyWwJ"
      }
    },
    {
      "cell_type": "code",
      "source": [
        "#abstraction\n",
        "file = open(\"/content/text.txt\",\"r\")\n",
        "\n"
      ],
      "metadata": {
        "id": "pH1CX7s2qcXe"
      },
      "execution_count": 14,
      "outputs": []
    },
    {
      "cell_type": "code",
      "source": [
        "content = file.read()\n",
        "print(content)"
      ],
      "metadata": {
        "colab": {
          "base_uri": "https://localhost:8080/"
        },
        "id": "iZeBrUIksdMD",
        "outputId": "95128c82-8a00-48fc-9dd2-1fc6e8c0234d"
      },
      "execution_count": 15,
      "outputs": [
        {
          "output_type": "stream",
          "name": "stdout",
          "text": [
            "hello, data science \n",
            "\n"
          ]
        }
      ]
    },
    {
      "cell_type": "code",
      "source": [
        "file = open(\"text.txt\",\"w\")\n",
        "\n",
        "file.write(\"hello, data science \\n\")"
      ],
      "metadata": {
        "colab": {
          "base_uri": "https://localhost:8080/"
        },
        "id": "OSiaLYMer-ln",
        "outputId": "a233ccdc-0fbe-4d51-e053-f2e6fb9900ad"
      },
      "execution_count": 16,
      "outputs": [
        {
          "output_type": "execute_result",
          "data": {
            "text/plain": [
              "21"
            ]
          },
          "metadata": {},
          "execution_count": 16
        }
      ]
    },
    {
      "cell_type": "code",
      "source": [
        "file = open(\"text.txt\",\"a\")\n",
        "\n",
        "file.write(\"data science \\n\")\n",
        "\n",
        "lines ={\"data science\",\"machine learning\",\"deep learning\"}\n",
        "\n",
        "file.writelines(lines)"
      ],
      "metadata": {
        "id": "Yj-oPI_Hr-W4"
      },
      "execution_count": 17,
      "outputs": []
    }
  ]
}