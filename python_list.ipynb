{
  "nbformat": 4,
  "nbformat_minor": 0,
  "metadata": {
    "colab": {
      "provenance": []
    },
    "kernelspec": {
      "name": "python3",
      "display_name": "Python 3"
    },
    "language_info": {
      "name": "python"
    }
  },
  "cells": [
    {
      "cell_type": "code",
      "execution_count": null,
      "metadata": {
        "id": "oSlKyM-A4nhT"
      },
      "outputs": [],
      "source": [
        "#explain about list in theory format with 5 examples\n",
        "#explain index with 5 exps\n",
        "#explain slicing with 5 exps\n",
        "#explain about methods in list funtion with examples"
      ]
    },
    {
      "cell_type": "markdown",
      "source": [
        "# LIST :\n",
        "\n",
        "The list() function creates a list object.\n",
        "\n",
        "A list object is a collection which is ordered and mutable (changeable).\n",
        "\n",
        "collection of elements (or) items (or) values. which is represented in square brackets '[ ]'. and elements are separated by comma ' , ' .\n",
        "\n",
        "     \n",
        "          \n"
      ],
      "metadata": {
        "id": "yJ490eKohJ6f"
      }
    },
    {
      "cell_type": "code",
      "source": [
        "# examples of list\n",
        "\n",
        "age = [20,23,22,26,27,28]\n",
        "\n",
        "print(age)"
      ],
      "metadata": {
        "colab": {
          "base_uri": "https://localhost:8080/"
        },
        "id": "FypvHr9yjSqu",
        "outputId": "7c7c64d4-9936-4595-a091-5e27bd8e515a"
      },
      "execution_count": null,
      "outputs": [
        {
          "output_type": "stream",
          "name": "stdout",
          "text": [
            "[20, 23, 22, 26, 27, 28]\n"
          ]
        }
      ]
    },
    {
      "cell_type": "code",
      "source": [
        "\n",
        "id = [101,102,103,106,107,108]\n",
        "\n",
        "print(id)"
      ],
      "metadata": {
        "colab": {
          "base_uri": "https://localhost:8080/"
        },
        "id": "TDS4DXaOjnTY",
        "outputId": "ef90848e-fbe5-48c2-f7ec-388e2d85f0a5"
      },
      "execution_count": null,
      "outputs": [
        {
          "output_type": "stream",
          "name": "stdout",
          "text": [
            "[101, 102, 103, 106, 107, 108]\n"
          ]
        }
      ]
    },
    {
      "cell_type": "code",
      "source": [
        "\n",
        "letter = ['A','B','C','D','E','F']\n",
        "\n",
        "print(letter)"
      ],
      "metadata": {
        "colab": {
          "base_uri": "https://localhost:8080/"
        },
        "id": "c2BTg7NdjpMZ",
        "outputId": "c5a55b72-43b1-495a-caa9-6cb9aa920686"
      },
      "execution_count": null,
      "outputs": [
        {
          "output_type": "stream",
          "name": "stdout",
          "text": [
            "['A', 'B', 'C', 'D', 'E', 'F']\n"
          ]
        }
      ]
    },
    {
      "cell_type": "code",
      "source": [
        "\n",
        "fruit = ['apple','banana','grape','orange']\n",
        "\n",
        "print(fruit)"
      ],
      "metadata": {
        "colab": {
          "base_uri": "https://localhost:8080/"
        },
        "id": "DBb74amSjpv6",
        "outputId": "62c4da11-ec1b-47d5-a3b7-eb6a30652e8e"
      },
      "execution_count": null,
      "outputs": [
        {
          "output_type": "stream",
          "name": "stdout",
          "text": [
            "['apple', 'banana', 'grape', 'orange']\n"
          ]
        }
      ]
    },
    {
      "cell_type": "code",
      "source": [
        "\n",
        "rollno = [12,13,14,15,16,17]\n",
        "\n",
        "print(rollno)"
      ],
      "metadata": {
        "colab": {
          "base_uri": "https://localhost:8080/"
        },
        "id": "TXqA15aOjqVV",
        "outputId": "9b95590c-be60-43e7-bf40-6f660dcfda80"
      },
      "execution_count": null,
      "outputs": [
        {
          "output_type": "stream",
          "name": "stdout",
          "text": [
            "[12, 13, 14, 15, 16, 17]\n"
          ]
        }
      ]
    },
    {
      "cell_type": "markdown",
      "source": [
        "# INDEX :    \n",
        " The index() method returns the position at the first occurrence of the specified value.\n",
        "\n",
        " Index can only access single element in the list .\n",
        "\n",
        " two types :\n",
        "\n",
        "            1. Postive index (0 to +infinty)\n",
        "                  left to right direction .\n",
        "\n",
        "            2. Negative index (-1 to -infinty)\n",
        "                 right to left direction .\n"
      ],
      "metadata": {
        "id": "zSfP05i9k4UJ"
      }
    },
    {
      "cell_type": "code",
      "source": [
        "#examples of index :\n",
        "\n",
        "age = [20,23,22,26,27,28]\n",
        "\n",
        "age.index(26)"
      ],
      "metadata": {
        "colab": {
          "base_uri": "https://localhost:8080/"
        },
        "id": "BpisswIwmcPl",
        "outputId": "0e19f9f4-a2e8-4314-b272-c2ee46d9bb28"
      },
      "execution_count": null,
      "outputs": [
        {
          "output_type": "execute_result",
          "data": {
            "text/plain": [
              "3"
            ]
          },
          "metadata": {},
          "execution_count": 11
        }
      ]
    },
    {
      "cell_type": "code",
      "source": [
        "fruit = ['apple','banana','grape','orange']\n",
        "\n",
        "fruit.index('banana')"
      ],
      "metadata": {
        "colab": {
          "base_uri": "https://localhost:8080/"
        },
        "id": "Vm2EeNhSmmmL",
        "outputId": "d67d55f9-a52e-44b0-f270-7ae49d953165"
      },
      "execution_count": null,
      "outputs": [
        {
          "output_type": "execute_result",
          "data": {
            "text/plain": [
              "1"
            ]
          },
          "metadata": {},
          "execution_count": 12
        }
      ]
    },
    {
      "cell_type": "code",
      "source": [
        "id = [101,102,103,106,107,108]\n",
        "\n",
        "id.index(108)"
      ],
      "metadata": {
        "colab": {
          "base_uri": "https://localhost:8080/"
        },
        "id": "MTgezf4NmrEe",
        "outputId": "cfcf45f1-aecd-490e-8d5f-dc3069f3a78c"
      },
      "execution_count": null,
      "outputs": [
        {
          "output_type": "execute_result",
          "data": {
            "text/plain": [
              "5"
            ]
          },
          "metadata": {},
          "execution_count": 13
        }
      ]
    },
    {
      "cell_type": "code",
      "source": [
        "letter =['a','b','c','d','e']\n",
        "\n",
        "letter.index('d')"
      ],
      "metadata": {
        "colab": {
          "base_uri": "https://localhost:8080/"
        },
        "id": "qqF6NGyGmv1I",
        "outputId": "43dde8a5-eb1a-4d6c-aa05-75a0dea710eb"
      },
      "execution_count": null,
      "outputs": [
        {
          "output_type": "execute_result",
          "data": {
            "text/plain": [
              "3"
            ]
          },
          "metadata": {},
          "execution_count": 14
        }
      ]
    },
    {
      "cell_type": "code",
      "source": [
        "rollno = [12,13,14,15,16,17]\n",
        "\n",
        "rollno.index(15)"
      ],
      "metadata": {
        "colab": {
          "base_uri": "https://localhost:8080/"
        },
        "id": "xw5r9sD_m-mz",
        "outputId": "27cffa66-65e0-4f39-eb36-b66daa89b738"
      },
      "execution_count": null,
      "outputs": [
        {
          "output_type": "execute_result",
          "data": {
            "text/plain": [
              "3"
            ]
          },
          "metadata": {},
          "execution_count": 16
        }
      ]
    },
    {
      "cell_type": "markdown",
      "source": [
        "# silicing\n",
        "\n",
        "You can return a range of characters by using the slice syntax.\n",
        "\n",
        "Specify the start index and the end index, separated by a colon, to return a part of the elements (or) string."
      ],
      "metadata": {
        "id": "oMbqlzjynQ-c"
      }
    },
    {
      "cell_type": "code",
      "source": [
        "#examples of slicing\n",
        "\n",
        "#with start and end postions\n",
        "\n",
        "age = [20,23,22,26,27,28,29,30]\n",
        "\n",
        "age[1:4]"
      ],
      "metadata": {
        "colab": {
          "base_uri": "https://localhost:8080/"
        },
        "id": "UY49-krynJIr",
        "outputId": "c67661d5-706e-4d9e-f536-6ea435df4ec6"
      },
      "execution_count": null,
      "outputs": [
        {
          "output_type": "execute_result",
          "data": {
            "text/plain": [
              "[23, 22, 26]"
            ]
          },
          "metadata": {},
          "execution_count": 17
        }
      ]
    },
    {
      "cell_type": "code",
      "source": [
        "#with only end ,leaving start position empty\n",
        "\n",
        "age = [20,23,22,26,27,28,29,30]\n",
        "\n",
        "age[:4]\n"
      ],
      "metadata": {
        "colab": {
          "base_uri": "https://localhost:8080/"
        },
        "id": "NRd-kMdboaMA",
        "outputId": "5b6c5259-1669-424c-9945-0cf218c1bd7c"
      },
      "execution_count": null,
      "outputs": [
        {
          "output_type": "execute_result",
          "data": {
            "text/plain": [
              "[20, 23, 22, 26]"
            ]
          },
          "metadata": {},
          "execution_count": 18
        }
      ]
    },
    {
      "cell_type": "code",
      "source": [
        "#with only start ,leaving end position empty\n",
        "\n",
        "age = [20,23,22,26,27,28,29,30]\n",
        "\n",
        "age[2:]"
      ],
      "metadata": {
        "colab": {
          "base_uri": "https://localhost:8080/"
        },
        "id": "E0DxlhZyo34k",
        "outputId": "3c4c360d-d849-4149-fccb-f22bdf579b5e"
      },
      "execution_count": null,
      "outputs": [
        {
          "output_type": "execute_result",
          "data": {
            "text/plain": [
              "[22, 26, 27, 28, 29, 30]"
            ]
          },
          "metadata": {},
          "execution_count": 19
        }
      ]
    },
    {
      "cell_type": "code",
      "source": [
        "#negative slicing\n",
        "\n",
        "age = [20,23,22,26,27,28,29,30]\n",
        "\n",
        "age[-5:-2]"
      ],
      "metadata": {
        "colab": {
          "base_uri": "https://localhost:8080/"
        },
        "id": "J9w5I3jYpDYj",
        "outputId": "bee5f8b9-c0ed-4986-f2da-8fecdff0aa46"
      },
      "execution_count": null,
      "outputs": [
        {
          "output_type": "execute_result",
          "data": {
            "text/plain": [
              "[26, 27, 28]"
            ]
          },
          "metadata": {},
          "execution_count": 21
        }
      ]
    },
    {
      "cell_type": "code",
      "source": [
        "# using string\n",
        "\n",
        "name = \"snuhith komati\"\n",
        "name[1:7]"
      ],
      "metadata": {
        "colab": {
          "base_uri": "https://localhost:8080/",
          "height": 36
        },
        "id": "pavbge15pXda",
        "outputId": "0f98baf3-c2e4-42bc-b1c6-ac1b5a9751aa"
      },
      "execution_count": null,
      "outputs": [
        {
          "output_type": "execute_result",
          "data": {
            "text/plain": [
              "'nuhith'"
            ],
            "application/vnd.google.colaboratory.intrinsic+json": {
              "type": "string"
            }
          },
          "metadata": {},
          "execution_count": 23
        }
      ]
    },
    {
      "cell_type": "markdown",
      "source": [
        "# List methods :     \n",
        "1. append()\tAdds an element at the end of the list\n",
        "2. clear()\tRemoves all the elements from the list\n",
        "3. copy()\tReturns a copy of the list\n",
        "4. count()\tReturns the number of elements with the specified value\n",
        "5. extend()\tAdd the elements of a list (or any iterable), to the end of the current list\n",
        "6. index()\tReturns the index of the first element with the specified value\n",
        "7. insert()\tAdds an element at the specified position\n",
        "8. pop()\tRemoves the element at the specified position\n",
        "9. remove()\tRemoves the first item with the specified value\n",
        "10. reverse()\tReverses the order of the list\n",
        "11. sort()\tSorts the list"
      ],
      "metadata": {
        "id": "xc672CgIqQV_"
      }
    },
    {
      "cell_type": "code",
      "source": [
        "#list methods examples\n",
        "#append()\n",
        "\n",
        "a=[1,2,3,4,5]\n",
        "\n",
        "a.append(6)\n",
        "print(a)\n"
      ],
      "metadata": {
        "colab": {
          "base_uri": "https://localhost:8080/"
        },
        "id": "Yru5xQ9EqJYe",
        "outputId": "aa6af640-8b18-49b2-e64d-0eebc112021c"
      },
      "execution_count": null,
      "outputs": [
        {
          "output_type": "stream",
          "name": "stdout",
          "text": [
            "[1, 2, 3, 4, 5, 6]\n"
          ]
        }
      ]
    },
    {
      "cell_type": "code",
      "source": [
        "#clear()\n",
        "\n",
        "a=[1,2,3,4,5,6]\n",
        "\n",
        "a.clear()\n",
        "print(a)"
      ],
      "metadata": {
        "colab": {
          "base_uri": "https://localhost:8080/"
        },
        "id": "renMWBgwr4BI",
        "outputId": "a051d69b-5fd5-4fff-fd86-53e296783457"
      },
      "execution_count": null,
      "outputs": [
        {
          "output_type": "stream",
          "name": "stdout",
          "text": [
            "[]\n"
          ]
        }
      ]
    },
    {
      "cell_type": "code",
      "source": [
        "#copy()\n",
        "\n",
        "a=[1,2,3,4,5]\n",
        "\n",
        "a.copy()\n"
      ],
      "metadata": {
        "colab": {
          "base_uri": "https://localhost:8080/"
        },
        "id": "H94CNfbisAqg",
        "outputId": "247a20d6-6e7e-40be-b6ba-6086a39c2192"
      },
      "execution_count": null,
      "outputs": [
        {
          "output_type": "execute_result",
          "data": {
            "text/plain": [
              "[1, 2, 3, 4, 5]"
            ]
          },
          "metadata": {},
          "execution_count": 29
        }
      ]
    },
    {
      "cell_type": "code",
      "source": [
        "#count()\n",
        "\n",
        "a=[1,2,3,2,4,2,5]\n",
        "\n",
        "a.count(2)\n"
      ],
      "metadata": {
        "colab": {
          "base_uri": "https://localhost:8080/"
        },
        "id": "0aRzIjokseMg",
        "outputId": "a005ce22-4b75-4de2-9f95-0fc4bec57a32"
      },
      "execution_count": null,
      "outputs": [
        {
          "output_type": "execute_result",
          "data": {
            "text/plain": [
              "3"
            ]
          },
          "metadata": {},
          "execution_count": 32
        }
      ]
    },
    {
      "cell_type": "code",
      "source": [
        "#extend()\n",
        "\n",
        "a=[1,2,3,4,5]\n",
        "\n",
        "b=[6,7,8,9]\n",
        "\n",
        "a.extend(b)\n",
        "\n",
        "print(a)"
      ],
      "metadata": {
        "colab": {
          "base_uri": "https://localhost:8080/"
        },
        "id": "QlBRVXtVsnVn",
        "outputId": "bb701285-b14e-4943-e29f-6783af338859"
      },
      "execution_count": null,
      "outputs": [
        {
          "output_type": "stream",
          "name": "stdout",
          "text": [
            "[1, 2, 3, 4, 5, 6, 7, 8, 9]\n"
          ]
        }
      ]
    },
    {
      "cell_type": "code",
      "source": [
        "#index()\n",
        "\n",
        "a=[1,2,3,4,5]\n",
        "\n",
        "a.index(2)\n"
      ],
      "metadata": {
        "colab": {
          "base_uri": "https://localhost:8080/"
        },
        "id": "qKzE-yTcs2E5",
        "outputId": "21a40b0e-0bcb-45f6-b5e1-0309f4457a25"
      },
      "execution_count": null,
      "outputs": [
        {
          "output_type": "execute_result",
          "data": {
            "text/plain": [
              "1"
            ]
          },
          "metadata": {},
          "execution_count": 34
        }
      ]
    },
    {
      "cell_type": "code",
      "source": [
        "#insert()\n",
        "\n",
        "a=[1,2,3,4,5]\n",
        "\n",
        "a.insert(2,6)\n",
        "\n",
        "print(a)"
      ],
      "metadata": {
        "colab": {
          "base_uri": "https://localhost:8080/"
        },
        "id": "4_VVeVzQtAri",
        "outputId": "4359b66f-fc6e-49c9-8d26-19a3f62645ab"
      },
      "execution_count": null,
      "outputs": [
        {
          "output_type": "stream",
          "name": "stdout",
          "text": [
            "[1, 2, 6, 3, 4, 5]\n"
          ]
        }
      ]
    },
    {
      "cell_type": "code",
      "source": [
        "#pop()\n",
        "\n",
        "a=[1,2,3,4,5]\n",
        "\n",
        "a.pop(3)\n",
        "print(a)"
      ],
      "metadata": {
        "colab": {
          "base_uri": "https://localhost:8080/"
        },
        "id": "2rM2ctjrtH5m",
        "outputId": "896ddfa9-03d1-4422-f477-b3e0d1f1a8e6"
      },
      "execution_count": null,
      "outputs": [
        {
          "output_type": "stream",
          "name": "stdout",
          "text": [
            "[1, 2, 3, 5]\n"
          ]
        }
      ]
    },
    {
      "cell_type": "code",
      "source": [
        "#remove()\n",
        "\n",
        "a=[1,2,3,4,5]\n",
        "\n",
        "a.remove(3)\n",
        "print(a)"
      ],
      "metadata": {
        "colab": {
          "base_uri": "https://localhost:8080/"
        },
        "id": "jgzQE6M3tPkA",
        "outputId": "b54a85c7-db04-4a9d-9c5f-17b622267778"
      },
      "execution_count": null,
      "outputs": [
        {
          "output_type": "stream",
          "name": "stdout",
          "text": [
            "[1, 2, 4, 5]\n"
          ]
        }
      ]
    },
    {
      "cell_type": "code",
      "source": [
        "#reverse()\n",
        "\n",
        "a =[1,2,3,4,5,6,7,8]\n",
        "\n",
        "a.reverse()\n",
        "print(a)"
      ],
      "metadata": {
        "colab": {
          "base_uri": "https://localhost:8080/"
        },
        "id": "bR0B3yRLtV3T",
        "outputId": "4ea3d9cc-9781-4641-f425-58a67e642962"
      },
      "execution_count": null,
      "outputs": [
        {
          "output_type": "stream",
          "name": "stdout",
          "text": [
            "[8, 7, 6, 5, 4, 3, 2, 1]\n"
          ]
        }
      ]
    },
    {
      "cell_type": "code",
      "source": [
        "#sort()\n",
        "\n",
        "a = [4,6,2,7,1,8,3,9,5]\n",
        "\n",
        "a.sort()\n",
        "print(a)"
      ],
      "metadata": {
        "colab": {
          "base_uri": "https://localhost:8080/"
        },
        "id": "9N8rmZ1mtoUc",
        "outputId": "7f678cfc-cbe2-4bd5-ee66-b7ef2ce8626b"
      },
      "execution_count": null,
      "outputs": [
        {
          "output_type": "stream",
          "name": "stdout",
          "text": [
            "[1, 2, 3, 4, 5, 6, 7, 8, 9]\n"
          ]
        }
      ]
    }
  ]
}