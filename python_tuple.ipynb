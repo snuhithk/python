{
  "nbformat": 4,
  "nbformat_minor": 0,
  "metadata": {
    "colab": {
      "provenance": []
    },
    "kernelspec": {
      "name": "python3",
      "display_name": "Python 3"
    },
    "language_info": {
      "name": "python"
    }
  },
  "cells": [
    {
      "cell_type": "markdown",
      "source": [
        "#Tuple( ):\n",
        "* Tuple is simply a pair of values grouped together in a fixed order.\n",
        "* It is immutable(we cannot modify,change,update the variable)."
      ],
      "metadata": {
        "id": "_PaaKj5cZgk4"
      }
    },
    {
      "cell_type": "code",
      "execution_count": 1,
      "metadata": {
        "id": "qL3ZKHSRup_u",
        "colab": {
          "base_uri": "https://localhost:8080/"
        },
        "outputId": "ef2732ac-831d-4753-db28-5f0c28434337"
      },
      "outputs": [
        {
          "output_type": "stream",
          "name": "stdout",
          "text": [
            "<class 'tuple'>\n"
          ]
        }
      ],
      "source": [
        "a = (1,2.5,\"apple\")\n",
        "print(type(a))"
      ]
    },
    {
      "cell_type": "markdown",
      "source": [
        "#Indexing():\n",
        "\n",
        "* Access using square brackets – Use tuple[index] to get an element.\n",
        "* Positive Indexing – Access elements from the beginning using 0, 1, 2, ....\n",
        "* Negative Indexing – Access elements from the end using -1, -2, -3, ...."
      ],
      "metadata": {
        "id": "YvCsESNxZ1qn"
      }
    },
    {
      "cell_type": "code",
      "source": [
        "a = (\"tuple is immutable\")\n",
        "a[7]"
      ],
      "metadata": {
        "colab": {
          "base_uri": "https://localhost:8080/",
          "height": 36
        },
        "id": "1_dN8QFgZ0uP",
        "outputId": "b72e4902-a10d-44f9-eaa1-ac5234621b95"
      },
      "execution_count": 4,
      "outputs": [
        {
          "output_type": "execute_result",
          "data": {
            "text/plain": [
              "'s'"
            ],
            "application/vnd.google.colaboratory.intrinsic+json": {
              "type": "string"
            }
          },
          "metadata": {},
          "execution_count": 4
        }
      ]
    },
    {
      "cell_type": "markdown",
      "source": [
        "#Slicing( ):\n",
        "\n",
        "* Use [start:end] to extract a portion of a tuple.\n",
        "* Slicing creates a new tuple without changing the original.\n"
      ],
      "metadata": {
        "id": "FSqcXUbxaO8V"
      }
    },
    {
      "cell_type": "code",
      "source": [
        "a = (\"tuple is immutable\")\n",
        "a[0:6]\n",
        ""
      ],
      "metadata": {
        "colab": {
          "base_uri": "https://localhost:8080/",
          "height": 36
        },
        "id": "Rg3szdfUaHPU",
        "outputId": "89f5ddca-9b38-4e3b-8554-e09d6126fcf7"
      },
      "execution_count": 5,
      "outputs": [
        {
          "output_type": "execute_result",
          "data": {
            "text/plain": [
              "'tuple '"
            ],
            "application/vnd.google.colaboratory.intrinsic+json": {
              "type": "string"
            }
          },
          "metadata": {},
          "execution_count": 5
        }
      ]
    },
    {
      "cell_type": "code",
      "source": [
        "a = (1,2,3,4,5)\n",
        "print(type(a))"
      ],
      "metadata": {
        "colab": {
          "base_uri": "https://localhost:8080/"
        },
        "id": "udHXFkcSaa22",
        "outputId": "3fbfdd58-fbd7-41c8-93e2-8f4efcbf9099"
      },
      "execution_count": 7,
      "outputs": [
        {
          "output_type": "stream",
          "name": "stdout",
          "text": [
            "<class 'tuple'>\n"
          ]
        }
      ]
    },
    {
      "cell_type": "code",
      "source": [
        "a = (1,2.3,\"teks\",True)\n",
        "print(type(a))"
      ],
      "metadata": {
        "colab": {
          "base_uri": "https://localhost:8080/"
        },
        "id": "J-Nu2rWOarZv",
        "outputId": "e18d535e-f57e-4728-c6bc-6239539d5838"
      },
      "execution_count": 8,
      "outputs": [
        {
          "output_type": "stream",
          "name": "stdout",
          "text": [
            "<class 'tuple'>\n"
          ]
        }
      ]
    },
    {
      "cell_type": "markdown",
      "source": [
        "#Tuple methods:\n",
        "1. len( ):\n",
        "* The len() function returns the number of elements in a tuple.\n",
        "* It helps in finding the size of a tuple quickly."
      ],
      "metadata": {
        "id": "ryBBMnOWaxCr"
      }
    },
    {
      "cell_type": "code",
      "source": [
        "a= (\"a\",1,2,\"c\")\n",
        "len(a)"
      ],
      "metadata": {
        "colab": {
          "base_uri": "https://localhost:8080/"
        },
        "id": "TvbrWhedascW",
        "outputId": "6d75a33f-d119-4de9-8cb3-f6b5f9754ccb"
      },
      "execution_count": 9,
      "outputs": [
        {
          "output_type": "execute_result",
          "data": {
            "text/plain": [
              "4"
            ]
          },
          "metadata": {},
          "execution_count": 9
        }
      ]
    },
    {
      "cell_type": "markdown",
      "source": [
        "2. count( ):\n",
        "* The count() function returns the number of times a specific element appears in a tuple."
      ],
      "metadata": {
        "id": "Xkft3XATbDFt"
      }
    },
    {
      "cell_type": "code",
      "source": [
        "a = (\"tuple is immutable\")\n",
        "a.count(\"i\")"
      ],
      "metadata": {
        "colab": {
          "base_uri": "https://localhost:8080/"
        },
        "id": "A6FVJ1cdbBhu",
        "outputId": "9f4a8a62-7384-4508-b6a3-6dce08ed7f61"
      },
      "execution_count": 10,
      "outputs": [
        {
          "output_type": "execute_result",
          "data": {
            "text/plain": [
              "2"
            ]
          },
          "metadata": {},
          "execution_count": 10
        }
      ]
    },
    {
      "cell_type": "markdown",
      "source": [
        "3. index( ):\n",
        "* Searches the tuple for a specified value and returns the position of where it was found.\n",
        "\n"
      ],
      "metadata": {
        "id": "i4EKtRx6bm1g"
      }
    },
    {
      "cell_type": "code",
      "source": [
        "a = (\"tuple is immutable\")\n",
        "print(a.index(\"m\"))"
      ],
      "metadata": {
        "colab": {
          "base_uri": "https://localhost:8080/"
        },
        "id": "EXam2jqObhON",
        "outputId": "8cc76c4c-2a35-4045-80b0-a6261a6d925e"
      },
      "execution_count": 11,
      "outputs": [
        {
          "output_type": "stream",
          "name": "stdout",
          "text": [
            "10\n"
          ]
        }
      ]
    },
    {
      "cell_type": "code",
      "source": [],
      "metadata": {
        "id": "QtAguTjRbwLc"
      },
      "execution_count": null,
      "outputs": []
    }
  ]
}