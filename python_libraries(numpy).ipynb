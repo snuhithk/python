{
  "nbformat": 4,
  "nbformat_minor": 0,
  "metadata": {
    "colab": {
      "provenance": []
    },
    "kernelspec": {
      "name": "python3",
      "display_name": "Python 3"
    },
    "language_info": {
      "name": "python"
    }
  },
  "cells": [
    {
      "cell_type": "markdown",
      "source": [
        "# Library:\n",
        "* A Python library is a collection of related modules. It contains bundles of code that can be used repeatedly in different programs. It makes Python Programming simpler and convenient for the programmer. As we don’t need to write the same code again and again for different programs. Python libraries play a very vital role in fields of Machine Learning, Data Science, Data Visualization, etc.\n",
        "\n",
        "1. numpy\n",
        "2. pandas\n",
        "3. matlab\n",
        "4. sea born"
      ],
      "metadata": {
        "id": "pr98YonX5H-V"
      }
    },
    {
      "cell_type": "markdown",
      "source": [
        "# Numpy:\n",
        "* NumPy is a Python library used for working with arrays.\n",
        "\n",
        "* It also has functions for working in domain of linear algebra, fourier transform, and matrices.\n",
        "\n",
        "* NumPy was created in 2005 by Travis Oliphant. It is an open source project and you can use it freely.\n",
        "\n",
        "* NumPy stands for Numerical Python."
      ],
      "metadata": {
        "id": "tjlIOYoO5f0F"
      }
    },
    {
      "cell_type": "code",
      "source": [
        "!pip install numpy\n"
      ],
      "metadata": {
        "colab": {
          "base_uri": "https://localhost:8080/"
        },
        "id": "_8YhGxczsi0J",
        "outputId": "02a1a524-4fd8-40b8-a8bb-5ec6ed76cca4"
      },
      "execution_count": 1,
      "outputs": [
        {
          "output_type": "stream",
          "name": "stdout",
          "text": [
            "Requirement already satisfied: numpy in /usr/local/lib/python3.11/dist-packages (1.26.4)\n"
          ]
        }
      ]
    },
    {
      "cell_type": "code",
      "source": [
        "import numpy as np\n",
        "\n",
        "a= np.array([1,2,3,4,5]) #1d\n",
        "b= np.array([[6,7,8],[8,9,10]]) #2d\n",
        "c= np.array([[[11,12,13],[14,15,16],[17,18,19]]]) #3d\n",
        "print(a)\n",
        "print(b)\n",
        "print(c)"
      ],
      "metadata": {
        "colab": {
          "base_uri": "https://localhost:8080/"
        },
        "id": "Gq1QoUni124r",
        "outputId": "01fe9208-b426-4c0f-ffb4-4e174dee4a97"
      },
      "execution_count": 2,
      "outputs": [
        {
          "output_type": "stream",
          "name": "stdout",
          "text": [
            "[1 2 3 4 5]\n",
            "[[ 6  7  8]\n",
            " [ 8  9 10]]\n",
            "[[[11 12 13]\n",
            "  [14 15 16]\n",
            "  [17 18 19]]]\n"
          ]
        }
      ]
    },
    {
      "cell_type": "code",
      "source": [
        "np.zeros((4,6))"
      ],
      "metadata": {
        "colab": {
          "base_uri": "https://localhost:8080/"
        },
        "id": "7kFvvcC217xY",
        "outputId": "7e3818f7-e816-4ef6-ab9e-401016760817"
      },
      "execution_count": 3,
      "outputs": [
        {
          "output_type": "execute_result",
          "data": {
            "text/plain": [
              "array([[0., 0., 0., 0., 0., 0.],\n",
              "       [0., 0., 0., 0., 0., 0.],\n",
              "       [0., 0., 0., 0., 0., 0.],\n",
              "       [0., 0., 0., 0., 0., 0.]])"
            ]
          },
          "metadata": {},
          "execution_count": 3
        }
      ]
    },
    {
      "cell_type": "code",
      "source": [
        "np.zeros((2,3,4)) #shapes,row,col"
      ],
      "metadata": {
        "colab": {
          "base_uri": "https://localhost:8080/"
        },
        "id": "PTmCv6Ru26j5",
        "outputId": "f8232e74-1dad-45b0-97ae-6d8eb9310371"
      },
      "execution_count": 4,
      "outputs": [
        {
          "output_type": "execute_result",
          "data": {
            "text/plain": [
              "array([[[0., 0., 0., 0.],\n",
              "        [0., 0., 0., 0.],\n",
              "        [0., 0., 0., 0.]],\n",
              "\n",
              "       [[0., 0., 0., 0.],\n",
              "        [0., 0., 0., 0.],\n",
              "        [0., 0., 0., 0.]]])"
            ]
          },
          "metadata": {},
          "execution_count": 4
        }
      ]
    },
    {
      "cell_type": "code",
      "source": [
        "np.ones((3,2,2)) #shapes,row,col"
      ],
      "metadata": {
        "colab": {
          "base_uri": "https://localhost:8080/"
        },
        "id": "m2F2Z8kQ2swa",
        "outputId": "d67575a4-306b-4da8-8c79-fe09a18351e9"
      },
      "execution_count": 5,
      "outputs": [
        {
          "output_type": "execute_result",
          "data": {
            "text/plain": [
              "array([[[1., 1.],\n",
              "        [1., 1.]],\n",
              "\n",
              "       [[1., 1.],\n",
              "        [1., 1.]],\n",
              "\n",
              "       [[1., 1.],\n",
              "        [1., 1.]]])"
            ]
          },
          "metadata": {},
          "execution_count": 5
        }
      ]
    },
    {
      "cell_type": "code",
      "source": [
        "d= np.arange(1,20,2)\n",
        "print(d)"
      ],
      "metadata": {
        "colab": {
          "base_uri": "https://localhost:8080/"
        },
        "id": "Xxl2EHkW2zMS",
        "outputId": "b5ae52e7-be96-48df-9c7b-170e1b0637ec"
      },
      "execution_count": 6,
      "outputs": [
        {
          "output_type": "stream",
          "name": "stdout",
          "text": [
            "[ 1  3  5  7  9 11 13 15 17 19]\n"
          ]
        }
      ]
    },
    {
      "cell_type": "code",
      "source": [
        "e = np.full((2,2),4)\n",
        "print(e)"
      ],
      "metadata": {
        "colab": {
          "base_uri": "https://localhost:8080/"
        },
        "id": "aYP51YAs3P7r",
        "outputId": "7fa94b96-53aa-46a5-e26f-23bbb726951b"
      },
      "execution_count": 7,
      "outputs": [
        {
          "output_type": "stream",
          "name": "stdout",
          "text": [
            "[[4 4]\n",
            " [4 4]]\n"
          ]
        }
      ]
    },
    {
      "cell_type": "code",
      "source": [
        "np.linspace(0,1,5) #start,end,no of values"
      ],
      "metadata": {
        "colab": {
          "base_uri": "https://localhost:8080/"
        },
        "id": "3M91baFM3d2h",
        "outputId": "5150a9b0-7a63-44fd-b418-0a2efe67fa58"
      },
      "execution_count": 8,
      "outputs": [
        {
          "output_type": "execute_result",
          "data": {
            "text/plain": [
              "array([0.  , 0.25, 0.5 , 0.75, 1.  ])"
            ]
          },
          "metadata": {},
          "execution_count": 8
        }
      ]
    },
    {
      "cell_type": "code",
      "source": [
        "e1= np.full((3,3),5)\n",
        "print(e1)"
      ],
      "metadata": {
        "colab": {
          "base_uri": "https://localhost:8080/"
        },
        "id": "s1Cl9eEF3mHg",
        "outputId": "e52bc9bc-fac9-444e-d993-7a9d51939197"
      },
      "execution_count": 9,
      "outputs": [
        {
          "output_type": "stream",
          "name": "stdout",
          "text": [
            "[[5 5 5]\n",
            " [5 5 5]\n",
            " [5 5 5]]\n"
          ]
        }
      ]
    },
    {
      "cell_type": "code",
      "source": [
        "f = np.eye(4) #identitry matrix\n",
        "print(f)"
      ],
      "metadata": {
        "colab": {
          "base_uri": "https://localhost:8080/"
        },
        "id": "_PdFdzUd39re",
        "outputId": "246ae5e2-d5c0-4b4d-8bc9-1e72f2f4d951"
      },
      "execution_count": 10,
      "outputs": [
        {
          "output_type": "stream",
          "name": "stdout",
          "text": [
            "[[1. 0. 0. 0.]\n",
            " [0. 1. 0. 0.]\n",
            " [0. 0. 1. 0.]\n",
            " [0. 0. 0. 1.]]\n"
          ]
        }
      ]
    },
    {
      "cell_type": "code",
      "source": [
        "arr = np.array([1,2,3,4], dtype='f')\n",
        "print(arr)\n",
        "print(arr.dtype)"
      ],
      "metadata": {
        "colab": {
          "base_uri": "https://localhost:8080/"
        },
        "id": "KAVfNzK_5prG",
        "outputId": "c243fcb5-baa3-4450-fbe6-cff751988494"
      },
      "execution_count": 11,
      "outputs": [
        {
          "output_type": "stream",
          "name": "stdout",
          "text": [
            "[1. 2. 3. 4.]\n",
            "float32\n"
          ]
        }
      ]
    },
    {
      "cell_type": "code",
      "source": [
        "#integer\n",
        "\n",
        "arr = np.array([1,2,3,4],dtype='i')\n",
        "print(arr)\n",
        "print(arr.dtype)"
      ],
      "metadata": {
        "colab": {
          "base_uri": "https://localhost:8080/"
        },
        "id": "k_aRafjV5yyO",
        "outputId": "adc6f2c0-c5c5-4733-8fe2-740df20abace"
      },
      "execution_count": 12,
      "outputs": [
        {
          "output_type": "stream",
          "name": "stdout",
          "text": [
            "[1 2 3 4]\n",
            "int32\n"
          ]
        }
      ]
    },
    {
      "cell_type": "code",
      "source": [
        "# changing data  type from float to int\n",
        "\n",
        "arr = np.array([1.1,2.1,3.1])\n",
        "newarr= arr.astype('i')\n",
        "print(newarr)\n",
        "print(newarr.dtype)\n"
      ],
      "metadata": {
        "colab": {
          "base_uri": "https://localhost:8080/"
        },
        "id": "rC3x4VU96X19",
        "outputId": "25f131e3-9884-43e4-c142-60e721f7395c"
      },
      "execution_count": 13,
      "outputs": [
        {
          "output_type": "stream",
          "name": "stdout",
          "text": [
            "[1 2 3]\n",
            "int32\n"
          ]
        }
      ]
    },
    {
      "cell_type": "code",
      "source": [
        "# changing data  type from int to boolean\n",
        "\n",
        "arr = np.array([1,0,3,0,7,6,0])\n",
        "newarr= arr.astype(bool)\n",
        "print(newarr)\n",
        "print(newarr.dtype)"
      ],
      "metadata": {
        "colab": {
          "base_uri": "https://localhost:8080/"
        },
        "id": "NPx6HPIZ6vIU",
        "outputId": "ff1291fe-4c99-4ef6-e1ae-1a7cbb70836b"
      },
      "execution_count": 14,
      "outputs": [
        {
          "output_type": "stream",
          "name": "stdout",
          "text": [
            "[ True False  True False  True  True False]\n",
            "bool\n"
          ]
        }
      ]
    },
    {
      "cell_type": "markdown",
      "source": [
        "# NumPy Array Copy vs View\n",
        "* The Difference Between Copy and View\n",
        "   * The main difference between a copy and a view of an array is that the copy is a new array, and the view is just a view of the original array.\n",
        "\n",
        "   * The copy owns the data and any changes made to the copy will not affect original array, and any changes made to the original array will not affect the copy.\n",
        "\n",
        "   * The view does not own the data and any changes made to the view will affect the original array, and any changes made to the original array will affect the view."
      ],
      "metadata": {
        "id": "NOtmWd2v7I_I"
      }
    },
    {
      "cell_type": "code",
      "source": [
        "# copy method\n",
        "\n",
        "arr = np.array([1,2,3,4,5,6])\n",
        "x= arr.copy()\n",
        "arr[2] =9\n",
        "print(arr)\n",
        "print(x)"
      ],
      "metadata": {
        "colab": {
          "base_uri": "https://localhost:8080/"
        },
        "id": "-ZvtSzDR7DUn",
        "outputId": "65cde7e7-b551-444e-de12-1c6e8dbbe382"
      },
      "execution_count": 15,
      "outputs": [
        {
          "output_type": "stream",
          "name": "stdout",
          "text": [
            "[1 2 9 4 5 6]\n",
            "[1 2 3 4 5 6]\n"
          ]
        }
      ]
    },
    {
      "cell_type": "code",
      "source": [
        "#view method\n",
        "\n",
        "arr= np.array([1,2,3,4,5,6])\n",
        "x =arr.view()\n",
        "\n",
        "arr[0]=9\n",
        "\n",
        "print(arr)\n",
        "print(x)"
      ],
      "metadata": {
        "colab": {
          "base_uri": "https://localhost:8080/"
        },
        "id": "QkBo-J_O737O",
        "outputId": "e86fc6a7-47c7-4658-ee31-6274931858e6"
      },
      "execution_count": 16,
      "outputs": [
        {
          "output_type": "stream",
          "name": "stdout",
          "text": [
            "[9 2 3 4 5 6]\n",
            "[9 2 3 4 5 6]\n"
          ]
        }
      ]
    },
    {
      "cell_type": "code",
      "source": [
        "#reshaping array\n",
        "\n",
        "# 1d to 2d\n",
        "\n",
        "arr = np.array([1,2,3,4,5,6,7,8,9,10,11,12])\n",
        "\n",
        "print(arr.size)\n",
        "\n",
        "newarr = arr.reshape(6,2)\n",
        "\n",
        "print(newarr)"
      ],
      "metadata": {
        "colab": {
          "base_uri": "https://localhost:8080/"
        },
        "id": "VL1HKm3e8OAb",
        "outputId": "4c3f56ac-bb15-4847-e7fc-b10d4f1905e6"
      },
      "execution_count": 17,
      "outputs": [
        {
          "output_type": "stream",
          "name": "stdout",
          "text": [
            "12\n",
            "[[ 1  2]\n",
            " [ 3  4]\n",
            " [ 5  6]\n",
            " [ 7  8]\n",
            " [ 9 10]\n",
            " [11 12]]\n"
          ]
        }
      ]
    },
    {
      "cell_type": "code",
      "source": [
        "# matrix\n",
        "\n",
        "x= np.array([[1,2],[3,4]])\n",
        "y= np.array([[5,6],[7,8]])\n",
        "\n",
        "print(np.add(x,y))\n"
      ],
      "metadata": {
        "colab": {
          "base_uri": "https://localhost:8080/"
        },
        "id": "zH1VSmpt-mIa",
        "outputId": "d748f322-2437-41a9-f927-8757bf19e752"
      },
      "execution_count": 18,
      "outputs": [
        {
          "output_type": "stream",
          "name": "stdout",
          "text": [
            "[[ 6  8]\n",
            " [10 12]]\n"
          ]
        }
      ]
    },
    {
      "cell_type": "code",
      "source": [
        "#sub\n",
        "print(np.subtract(x,y))"
      ],
      "metadata": {
        "colab": {
          "base_uri": "https://localhost:8080/"
        },
        "id": "cS2vQU6jAb73",
        "outputId": "14816e38-b4e2-437e-cb33-1ad8ea6ce205"
      },
      "execution_count": 19,
      "outputs": [
        {
          "output_type": "stream",
          "name": "stdout",
          "text": [
            "[[-4 -4]\n",
            " [-4 -4]]\n"
          ]
        }
      ]
    },
    {
      "cell_type": "code",
      "source": [
        "#mul\n",
        "\n",
        "print(np.multiply(x,y))"
      ],
      "metadata": {
        "colab": {
          "base_uri": "https://localhost:8080/"
        },
        "id": "0A2RYabnAj-N",
        "outputId": "32201c46-eb1f-4e13-dfb6-b8a463e0dc20"
      },
      "execution_count": 20,
      "outputs": [
        {
          "output_type": "stream",
          "name": "stdout",
          "text": [
            "[[ 5 12]\n",
            " [21 32]]\n"
          ]
        }
      ]
    },
    {
      "cell_type": "code",
      "source": [
        "#div\n",
        "\n",
        "print(np.divide(x,y))"
      ],
      "metadata": {
        "colab": {
          "base_uri": "https://localhost:8080/"
        },
        "id": "GuaJ3OP6Atly",
        "outputId": "40b295fe-d43c-4534-8ead-e63f9ead9a4a"
      },
      "execution_count": 21,
      "outputs": [
        {
          "output_type": "stream",
          "name": "stdout",
          "text": [
            "[[0.2        0.33333333]\n",
            " [0.42857143 0.5       ]]\n"
          ]
        }
      ]
    },
    {
      "cell_type": "code",
      "source": [
        "#sqaure root\n",
        "\n",
        "print(np.sqrt(x))\n",
        "print(np.sqrt(y))"
      ],
      "metadata": {
        "colab": {
          "base_uri": "https://localhost:8080/"
        },
        "id": "1xWt3o0AAy-O",
        "outputId": "655665ba-fd8e-4313-f9e9-917d891ac1a7"
      },
      "execution_count": 22,
      "outputs": [
        {
          "output_type": "stream",
          "name": "stdout",
          "text": [
            "[[1.         1.41421356]\n",
            " [1.73205081 2.        ]]\n",
            "[[2.23606798 2.44948974]\n",
            " [2.64575131 2.82842712]]\n"
          ]
        }
      ]
    },
    {
      "cell_type": "code",
      "source": [
        "#sorting order\n",
        "\n",
        "arr = np.array([3,2,0,5,9,45,2,4,12,1,7,2,9])\n",
        "print(np.sort(arr))"
      ],
      "metadata": {
        "colab": {
          "base_uri": "https://localhost:8080/"
        },
        "id": "wgB3Hb3JA55_",
        "outputId": "e1e7f07b-4191-473b-a981-6fbf3ed8973b"
      },
      "execution_count": 23,
      "outputs": [
        {
          "output_type": "stream",
          "name": "stdout",
          "text": [
            "[ 0  1  2  2  2  3  4  5  7  9  9 12 45]\n"
          ]
        }
      ]
    },
    {
      "cell_type": "markdown",
      "source": [
        "#NumPy Array Slicing\n",
        "* Slicing arrays\n",
        "  * Slicing in python means taking elements from one given index to another given index.\n",
        "\n",
        "  * We pass slice instead of index like this: [start:end].\n",
        "\n",
        "  * We can also define the step, like this: [start:end:step].\n",
        "\n",
        "  * If we don't pass start its considered 0\n",
        "\n",
        "  * If we don't pass end its considered length of array in that dimension\n",
        "\n",
        "  * If we don't pass step its considered 1"
      ],
      "metadata": {
        "id": "oaBJABld6unh"
      }
    },
    {
      "cell_type": "code",
      "source": [
        "#slicing methods\n",
        "\n",
        "arr =np.array([1,2,3,4,5,6,7])\n",
        "print(arr[1:12])\n",
        "\n"
      ],
      "metadata": {
        "colab": {
          "base_uri": "https://localhost:8080/"
        },
        "id": "EjEpOYq2BPgV",
        "outputId": "9b977da4-ce51-46fb-aeea-cc44ecfa26c5"
      },
      "execution_count": 24,
      "outputs": [
        {
          "output_type": "stream",
          "name": "stdout",
          "text": [
            "[2 3 4 5 6 7]\n"
          ]
        }
      ]
    },
    {
      "cell_type": "code",
      "source": [
        "arr = np.array([1,2,3,4,5,6,7])\n",
        "print(arr[1:])"
      ],
      "metadata": {
        "colab": {
          "base_uri": "https://localhost:8080/"
        },
        "id": "qisCsNC7C4ts",
        "outputId": "e6da1082-edac-44a3-8365-97b2b16e8d48"
      },
      "execution_count": 25,
      "outputs": [
        {
          "output_type": "stream",
          "name": "stdout",
          "text": [
            "[2 3 4 5 6 7]\n"
          ]
        }
      ]
    },
    {
      "cell_type": "code",
      "source": [
        "arr=np.array([1,2,3,4,5,6])\n",
        "print(arr[:5])"
      ],
      "metadata": {
        "colab": {
          "base_uri": "https://localhost:8080/"
        },
        "id": "0Zq_4bGwDJLk",
        "outputId": "fbb94a6f-b7d8-4df9-e813-ed089fdc70ae"
      },
      "execution_count": 26,
      "outputs": [
        {
          "output_type": "stream",
          "name": "stdout",
          "text": [
            "[1 2 3 4 5]\n"
          ]
        }
      ]
    },
    {
      "cell_type": "code",
      "source": [
        "arr=np.array([1,2,3,4,5,6])\n",
        "print(arr[-3:-1])"
      ],
      "metadata": {
        "colab": {
          "base_uri": "https://localhost:8080/"
        },
        "id": "nviq3-HVDxly",
        "outputId": "28b65f72-5804-4009-a2f3-71ca84aa2e5a"
      },
      "execution_count": 27,
      "outputs": [
        {
          "output_type": "stream",
          "name": "stdout",
          "text": [
            "[4 5]\n"
          ]
        }
      ]
    },
    {
      "cell_type": "code",
      "source": [
        "# 2dimensional slicing\n",
        "\n",
        "arr=np.array([[1,2,3,4,5],\n",
        "              [6,7,8,9,10],\n",
        "              [16,17,18,19,20]])\n",
        "print(arr[2,1:3])\n"
      ],
      "metadata": {
        "colab": {
          "base_uri": "https://localhost:8080/"
        },
        "id": "fFQFuWrADhim",
        "outputId": "0fcccbf0-3026-4133-fdee-fc7357b6a89b"
      },
      "execution_count": 28,
      "outputs": [
        {
          "output_type": "stream",
          "name": "stdout",
          "text": [
            "[17 18]\n"
          ]
        }
      ]
    },
    {
      "cell_type": "code",
      "source": [
        "\n",
        "arr= np.array([[1,2,3,4,5],\n",
        "              [6,7,8,9,10],\n",
        "              [16,17,18,19,20]])\n",
        "\n",
        "print(arr[0:2,4])"
      ],
      "metadata": {
        "colab": {
          "base_uri": "https://localhost:8080/"
        },
        "id": "34zj_bAiEaPe",
        "outputId": "97a8b3ff-f1b8-418b-b451-8f1856934ef6"
      },
      "execution_count": 29,
      "outputs": [
        {
          "output_type": "stream",
          "name": "stdout",
          "text": [
            "[ 5 10]\n"
          ]
        }
      ]
    }
  ]
}