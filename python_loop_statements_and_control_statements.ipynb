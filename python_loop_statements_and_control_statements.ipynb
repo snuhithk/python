{
  "nbformat": 4,
  "nbformat_minor": 0,
  "metadata": {
    "colab": {
      "provenance": []
    },
    "kernelspec": {
      "name": "python3",
      "display_name": "Python 3"
    },
    "language_info": {
      "name": "python"
    }
  },
  "cells": [
    {
      "cell_type": "markdown",
      "source": [
        "# Loop Statements:\n",
        "1. While Loop:\n",
        "* With the while loop we can execute a set of statements as long as a condition is true.\n",
        "\n",
        "* It is useful when the number of iterations is unknown beforehand.\n",
        "\n",
        "* remember to increment i, or else the loop will continue forever.\n",
        "\n",
        "* Syntax:\n",
        "while condition: # Code block to execute"
      ],
      "metadata": {
        "id": "DdgoNK9rz74t"
      }
    },
    {
      "cell_type": "code",
      "source": [
        "#while statement\n",
        "#Example-1\n",
        "i=0\n",
        "while i<=5:\n",
        "  print(i)\n",
        "  i=i+1"
      ],
      "metadata": {
        "colab": {
          "base_uri": "https://localhost:8080/"
        },
        "id": "Ay3zlFc3z99N",
        "outputId": "939cbfe5-5f5d-4968-dd13-7d4c013d568b"
      },
      "execution_count": 1,
      "outputs": [
        {
          "output_type": "stream",
          "name": "stdout",
          "text": [
            "0\n",
            "1\n",
            "2\n",
            "3\n",
            "4\n",
            "5\n"
          ]
        }
      ]
    },
    {
      "cell_type": "code",
      "source": [
        "#Example-2:\n",
        "x = 1\n",
        "while x <= 5:\n",
        "    x += 1\n",
        "    print(x)"
      ],
      "metadata": {
        "colab": {
          "base_uri": "https://localhost:8080/"
        },
        "id": "Sg4oPRnBz950",
        "outputId": "790ce442-c2ad-45d4-a1df-011e733fe036"
      },
      "execution_count": 2,
      "outputs": [
        {
          "output_type": "stream",
          "name": "stdout",
          "text": [
            "2\n",
            "3\n",
            "4\n",
            "5\n",
            "6\n"
          ]
        }
      ]
    },
    {
      "cell_type": "code",
      "execution_count": 3,
      "metadata": {
        "colab": {
          "base_uri": "https://localhost:8080/"
        },
        "id": "1PgTESq9zw4u",
        "outputId": "ccd99c7e-c6f4-4d19-9e7e-4903297cdaa9"
      },
      "outputs": [
        {
          "output_type": "stream",
          "name": "stdout",
          "text": [
            "1\n",
            "2\n",
            "3\n",
            "4\n",
            "5\n"
          ]
        }
      ],
      "source": [
        "#Example-3:\n",
        "x = 1\n",
        "while x <= 5:\n",
        "    print(x)\n",
        "    x += 1"
      ]
    },
    {
      "cell_type": "markdown",
      "source": [
        "2. for loop:\n",
        "* A for loop in Python is used to iterate over a sequence (such as a list, tuple, dictionary, string, or range).\n",
        "* It executes a block of code for each item in the sequence.\n",
        "* Syntax: for variable in sequence: # Code block to execute"
      ],
      "metadata": {
        "id": "Jd0i9y5h0TeK"
      }
    },
    {
      "cell_type": "code",
      "source": [
        "age=[12,34,56,78,98]#List\n",
        "for i in age:\n",
        "  print(\"My age is\",i)"
      ],
      "metadata": {
        "colab": {
          "base_uri": "https://localhost:8080/"
        },
        "id": "g1vasa5p0kO-",
        "outputId": "e6188a24-8086-402a-c982-703ed1144bc8"
      },
      "execution_count": 4,
      "outputs": [
        {
          "output_type": "stream",
          "name": "stdout",
          "text": [
            "My age is 12\n",
            "My age is 34\n",
            "My age is 56\n",
            "My age is 78\n",
            "My age is 98\n"
          ]
        }
      ]
    },
    {
      "cell_type": "code",
      "source": [
        "string=\"python\"#string\n",
        "for y in string:\n",
        "  print(y)"
      ],
      "metadata": {
        "colab": {
          "base_uri": "https://localhost:8080/"
        },
        "id": "478ffHOr0sa-",
        "outputId": "cf9f11dd-e562-4474-a631-84f25d3a1c61"
      },
      "execution_count": 5,
      "outputs": [
        {
          "output_type": "stream",
          "name": "stdout",
          "text": [
            "p\n",
            "y\n",
            "t\n",
            "h\n",
            "o\n",
            "n\n"
          ]
        }
      ]
    },
    {
      "cell_type": "code",
      "source": [
        "tup=(\"apple\",\"banana\",\"hero_bharat\")#tuple\n",
        "for hero in tup:\n",
        "  print(hero)\n",
        ""
      ],
      "metadata": {
        "colab": {
          "base_uri": "https://localhost:8080/"
        },
        "id": "0aINNzI50uk6",
        "outputId": "b5ba6062-6398-4260-fdcc-fafbf8b8e0c5"
      },
      "execution_count": 6,
      "outputs": [
        {
          "output_type": "stream",
          "name": "stdout",
          "text": [
            "apple\n",
            "banana\n",
            "hero_bharat\n"
          ]
        }
      ]
    },
    {
      "cell_type": "code",
      "source": [
        "st={1,23,4,4,5,63.67,8,89,99,99,9}#set\n",
        "for i in st:\n",
        "  print(i)"
      ],
      "metadata": {
        "colab": {
          "base_uri": "https://localhost:8080/"
        },
        "id": "7MRRmqfW0xD8",
        "outputId": "d5953625-d9b8-467d-ba76-e7b8fb52d4fc"
      },
      "execution_count": 7,
      "outputs": [
        {
          "output_type": "stream",
          "name": "stdout",
          "text": [
            "1\n",
            "99\n",
            "4\n",
            "5\n",
            "8\n",
            "9\n",
            "23\n",
            "89\n",
            "63.67\n"
          ]
        }
      ]
    },
    {
      "cell_type": "code",
      "source": [
        "dic={\"name\":\"dhan\",\"age\":20,\"place\":\"hyd\"}#dictionary\n",
        "for key,value in dic.items():\n",
        "  print(f'my key is {key} and my value is {value}')"
      ],
      "metadata": {
        "colab": {
          "base_uri": "https://localhost:8080/"
        },
        "id": "Oasoepkn0zGr",
        "outputId": "d6409f11-d70e-4cf4-e832-57ea349989c0"
      },
      "execution_count": 8,
      "outputs": [
        {
          "output_type": "stream",
          "name": "stdout",
          "text": [
            "my key is name and my value is dhan\n",
            "my key is age and my value is 20\n",
            "my key is place and my value is hyd\n"
          ]
        }
      ]
    },
    {
      "cell_type": "code",
      "source": [
        "for i in range(1,25):#last value is(n-1)\n",
        "  print(i)"
      ],
      "metadata": {
        "colab": {
          "base_uri": "https://localhost:8080/"
        },
        "id": "CG7AJD4F01_G",
        "outputId": "468a4e58-6143-4ca4-85fe-a226015998b0"
      },
      "execution_count": 9,
      "outputs": [
        {
          "output_type": "stream",
          "name": "stdout",
          "text": [
            "1\n",
            "2\n",
            "3\n",
            "4\n",
            "5\n",
            "6\n",
            "7\n",
            "8\n",
            "9\n",
            "10\n",
            "11\n",
            "12\n",
            "13\n",
            "14\n",
            "15\n",
            "16\n",
            "17\n",
            "18\n",
            "19\n",
            "20\n",
            "21\n",
            "22\n",
            "23\n",
            "24\n"
          ]
        }
      ]
    },
    {
      "cell_type": "markdown",
      "source": [
        "# Control Statements:\n",
        "* Control statements alter the flow of execution in loops and conditional statements.\n",
        "* The three main control statements are pass, continue, and break.\n",
        "1. pass:\n",
        "* The pass statement is a placeholder and does nothing when executed.\n",
        "* It is useful when a block of code is syntactically required but not yet implemented."
      ],
      "metadata": {
        "id": "6_o7G6oU07kf"
      }
    },
    {
      "cell_type": "code",
      "source": [
        "for i in range(1,10):#pass\n",
        "  if i==2:\n",
        "    pass\n",
        "  else:\n",
        "    print(i)"
      ],
      "metadata": {
        "colab": {
          "base_uri": "https://localhost:8080/"
        },
        "id": "MhKAOEAF04su",
        "outputId": "8f662fbd-1167-45aa-8bae-708fbe2a84e6"
      },
      "execution_count": 10,
      "outputs": [
        {
          "output_type": "stream",
          "name": "stdout",
          "text": [
            "1\n",
            "3\n",
            "4\n",
            "5\n",
            "6\n",
            "7\n",
            "8\n",
            "9\n"
          ]
        }
      ]
    },
    {
      "cell_type": "markdown",
      "source": [
        "2. Continue:\n",
        "* It is used to skip a specific iteration in a loop.\n",
        "* The loop does not terminate; it continues with the next iteration."
      ],
      "metadata": {
        "id": "KF8IICYq1UyF"
      }
    },
    {
      "cell_type": "code",
      "source": [
        "for i in range(1,34):#continue\n",
        "  if i==10:\n",
        "    continue\n",
        "  else:\n",
        "    print(i)"
      ],
      "metadata": {
        "colab": {
          "base_uri": "https://localhost:8080/"
        },
        "id": "E1m5OE0r1LW4",
        "outputId": "a0ee5d01-3453-4cde-d2ae-fd94fb64b5ac"
      },
      "execution_count": 11,
      "outputs": [
        {
          "output_type": "stream",
          "name": "stdout",
          "text": [
            "1\n",
            "2\n",
            "3\n",
            "4\n",
            "5\n",
            "6\n",
            "7\n",
            "8\n",
            "9\n",
            "11\n",
            "12\n",
            "13\n",
            "14\n",
            "15\n",
            "16\n",
            "17\n",
            "18\n",
            "19\n",
            "20\n",
            "21\n",
            "22\n",
            "23\n",
            "24\n",
            "25\n",
            "26\n",
            "27\n",
            "28\n",
            "29\n",
            "30\n",
            "31\n",
            "32\n",
            "33\n"
          ]
        }
      ]
    },
    {
      "cell_type": "markdown",
      "source": [
        "3. break:\n",
        "* It is used to exit a loop immediately.\n",
        "* Any code after break inside the loop is not executed."
      ],
      "metadata": {
        "id": "UgnN1tr81bT1"
      }
    },
    {
      "cell_type": "code",
      "source": [
        "for i in range(23):\n",
        "  if i==15:\n",
        "    break # Stop the loop when i is 15\n",
        "  else:\n",
        "    print(i)"
      ],
      "metadata": {
        "colab": {
          "base_uri": "https://localhost:8080/"
        },
        "id": "jLWDjIWQ1Y4U",
        "outputId": "c0609408-e227-4d2d-ea96-25ea59be99c2"
      },
      "execution_count": 12,
      "outputs": [
        {
          "output_type": "stream",
          "name": "stdout",
          "text": [
            "0\n",
            "1\n",
            "2\n",
            "3\n",
            "4\n",
            "5\n",
            "6\n",
            "7\n",
            "8\n",
            "9\n",
            "10\n",
            "11\n",
            "12\n",
            "13\n",
            "14\n"
          ]
        }
      ]
    },
    {
      "cell_type": "code",
      "source": [
        "for i in range(23):\n",
        "  if i==15:\n",
        "    break # Stop the loop when i is 15\n",
        "  else:\n",
        "    print(i)"
      ],
      "metadata": {
        "colab": {
          "base_uri": "https://localhost:8080/"
        },
        "id": "uBpTW6ia1hc9",
        "outputId": "5b14330d-e320-48c1-82eb-fa77f3661bb2"
      },
      "execution_count": 13,
      "outputs": [
        {
          "output_type": "stream",
          "name": "stdout",
          "text": [
            "0\n",
            "1\n",
            "2\n",
            "3\n",
            "4\n",
            "5\n",
            "6\n",
            "7\n",
            "8\n",
            "9\n",
            "10\n",
            "11\n",
            "12\n",
            "13\n",
            "14\n"
          ]
        }
      ]
    }
  ]
}