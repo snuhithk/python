{
  "nbformat": 4,
  "nbformat_minor": 0,
  "metadata": {
    "colab": {
      "provenance": []
    },
    "kernelspec": {
      "name": "python3",
      "display_name": "Python 3"
    },
    "language_info": {
      "name": "python"
    }
  },
  "cells": [
    {
      "cell_type": "markdown",
      "source": [
        "#Operators :\n",
        "1. Arithmetic operator : are used with numeric values to perform common mathematical operations."
      ],
      "metadata": {
        "id": "IAujSgnkpL7e"
      }
    },
    {
      "cell_type": "code",
      "execution_count": null,
      "metadata": {
        "colab": {
          "base_uri": "https://localhost:8080/"
        },
        "id": "Stjch5O3op90",
        "outputId": "ce985137-4a9d-4399-b877-edb40e04f581"
      },
      "outputs": [
        {
          "output_type": "stream",
          "name": "stdout",
          "text": [
            "24\n",
            "16\n",
            "80\n",
            "5.0\n",
            "0\n",
            "160000\n",
            "5\n"
          ]
        }
      ],
      "source": [
        "a = 20\n",
        "b = 4\n",
        "print(a+b)\n",
        "print(a-b)\n",
        "print(a*b)\n",
        "print(a/b)\n",
        "print(a%b)\n",
        "print(a**b)\n",
        "print(a//b)"
      ]
    },
    {
      "cell_type": "markdown",
      "source": [
        "2. Comparison operators : are used to compare two values."
      ],
      "metadata": {
        "id": "yxYPU8LjpoRL"
      }
    },
    {
      "cell_type": "code",
      "source": [
        "a = 20\n",
        "b = 4\n",
        "print(a==b)\n",
        "print(a!=b)\n",
        "print(a>b)\n",
        "print(a<b)\n",
        "print(a>=b)\n",
        "print(a<=b)"
      ],
      "metadata": {
        "colab": {
          "base_uri": "https://localhost:8080/"
        },
        "id": "NMAqKhhZpkN5",
        "outputId": "51cf97c9-3ec1-4547-9e7c-d35f3c78e442"
      },
      "execution_count": null,
      "outputs": [
        {
          "output_type": "stream",
          "name": "stdout",
          "text": [
            "False\n",
            "True\n",
            "True\n",
            "False\n",
            "True\n",
            "False\n"
          ]
        }
      ]
    },
    {
      "cell_type": "markdown",
      "source": [
        "3. Assignment operators: are used to assign values to variables."
      ],
      "metadata": {
        "id": "0bu9NG51qnYW"
      }
    },
    {
      "cell_type": "code",
      "source": [
        "a = 20\n",
        "b = 4\n",
        "a+=b\n",
        "print(a)"
      ],
      "metadata": {
        "colab": {
          "base_uri": "https://localhost:8080/"
        },
        "id": "tCyFBENlpwWZ",
        "outputId": "bf8a74ca-66dd-4e3b-8dd0-c7ced05e6adc"
      },
      "execution_count": null,
      "outputs": [
        {
          "output_type": "stream",
          "name": "stdout",
          "text": [
            "24\n"
          ]
        }
      ]
    },
    {
      "cell_type": "code",
      "source": [
        "a-=b\n",
        "print(a)"
      ],
      "metadata": {
        "colab": {
          "base_uri": "https://localhost:8080/"
        },
        "id": "goxg9m3aquFp",
        "outputId": "004a6ce1-6f15-4e9f-bbbf-b7f1fa1902ec"
      },
      "execution_count": null,
      "outputs": [
        {
          "output_type": "stream",
          "name": "stdout",
          "text": [
            "20\n"
          ]
        }
      ]
    },
    {
      "cell_type": "code",
      "source": [
        "a*=b\n",
        "print(a)"
      ],
      "metadata": {
        "colab": {
          "base_uri": "https://localhost:8080/"
        },
        "id": "l0EwWm5WqxB3",
        "outputId": "406d686f-c858-461a-8309-f668cbf55cad"
      },
      "execution_count": null,
      "outputs": [
        {
          "output_type": "stream",
          "name": "stdout",
          "text": [
            "80\n"
          ]
        }
      ]
    },
    {
      "cell_type": "code",
      "source": [
        "a/=b\n",
        "print(a)"
      ],
      "metadata": {
        "colab": {
          "base_uri": "https://localhost:8080/"
        },
        "id": "rwX9YJUaqz2c",
        "outputId": "4cff94de-b5e2-47fe-a979-5a290c2d9610"
      },
      "execution_count": null,
      "outputs": [
        {
          "output_type": "stream",
          "name": "stdout",
          "text": [
            "20.0\n"
          ]
        }
      ]
    },
    {
      "cell_type": "code",
      "source": [
        "a%=b\n",
        "print(a)"
      ],
      "metadata": {
        "colab": {
          "base_uri": "https://localhost:8080/"
        },
        "id": "U5Pt7CdUq2kE",
        "outputId": "f7610dca-2b96-4f47-b3a3-2d9cc0cc4302"
      },
      "execution_count": null,
      "outputs": [
        {
          "output_type": "stream",
          "name": "stdout",
          "text": [
            "0.0\n"
          ]
        }
      ]
    },
    {
      "cell_type": "code",
      "source": [
        "a**=b\n",
        "print(a)"
      ],
      "metadata": {
        "colab": {
          "base_uri": "https://localhost:8080/"
        },
        "id": "rHdUgAv8q5Dn",
        "outputId": "e8e61708-53c0-4d34-891e-c112d322934b"
      },
      "execution_count": null,
      "outputs": [
        {
          "output_type": "stream",
          "name": "stdout",
          "text": [
            "0.0\n"
          ]
        }
      ]
    },
    {
      "cell_type": "markdown",
      "source": [
        "4. Logical operators: are used to combine conditional statements:\n",
        "\n",
        "* and : Returns True if both statements\n",
        "are true.\n",
        "\n",
        "* or : Returns True if one of the statements is true.\n",
        "\n",
        "* not : Reverse the result, returns False if the result is true.\n"
      ],
      "metadata": {
        "id": "9qYakXLwrFVT"
      }
    },
    {
      "cell_type": "code",
      "source": [
        "a = 22\n",
        "b = 4\n",
        "print(a>b and b==b)\n",
        "printr(a<b or b==b)\n",
        "print(a>b and)"
      ],
      "metadata": {
        "colab": {
          "base_uri": "https://localhost:8080/"
        },
        "id": "08FJ4-IHq7v0",
        "outputId": "ed2cf0d2-0fa6-40be-e46d-6a80906155ee"
      },
      "execution_count": null,
      "outputs": [
        {
          "output_type": "stream",
          "name": "stdout",
          "text": [
            "True\n"
          ]
        }
      ]
    },
    {
      "cell_type": "markdown",
      "source": [
        "5. Identity operators: are used to compare the objects, not if they are equal, but if they are actually the same object, with the same memory location.\n",
        "\n",
        "* is : Returns True if both variables are the same object.\n",
        "\n",
        "* is not : Returns True if both variables are not the same object."
      ],
      "metadata": {
        "id": "1gubLo1atr3b"
      }
    },
    {
      "cell_type": "code",
      "source": [
        "a = 20\n",
        "b = 4\n",
        "print(a is b)\n",
        "print(a is not b)"
      ],
      "metadata": {
        "id": "B7_rFnWzrh7N",
        "colab": {
          "base_uri": "https://localhost:8080/"
        },
        "outputId": "ef964d89-1f0e-4c55-ed91-f231dd292566"
      },
      "execution_count": 18,
      "outputs": [
        {
          "output_type": "stream",
          "name": "stdout",
          "text": [
            "False\n",
            "True\n"
          ]
        }
      ]
    },
    {
      "cell_type": "markdown",
      "source": [
        "6. Membership operators: are used to test if a sequence is presented in an object.\n",
        "\n",
        "* in : Returns True if a sequence with the specified value is present in the object.\n",
        "\n",
        "* not in : Returns True if a sequence with the specified value is not present in the object."
      ],
      "metadata": {
        "id": "6jOz8iA5uKyU"
      }
    },
    {
      "cell_type": "code",
      "source": [
        "a = [3,4,5,6,7,8]\n",
        "print(5 in a)\n",
        "print(7 in a)\n",
        "print(8 not in a)"
      ],
      "metadata": {
        "colab": {
          "base_uri": "https://localhost:8080/"
        },
        "id": "GnA6jSNguRDQ",
        "outputId": "97306727-ff2e-4666-a1b4-d1ac2f2941f0"
      },
      "execution_count": 19,
      "outputs": [
        {
          "output_type": "stream",
          "name": "stdout",
          "text": [
            "True\n",
            "True\n",
            "False\n"
          ]
        }
      ]
    },
    {
      "cell_type": "markdown",
      "source": [
        "7. Bitwise operators: are used to compare (binary) numbers.\n",
        "\n",
        "* & (AND) Sets each bit to 1 if both bits are 1.\n",
        "\n",
        "* | (OR) Sets each bit to 1 if one of two bits is 1.\n",
        "\n",
        "* ^ (XOR) Sets each bit to 1 if only one of two bits is 1.\n",
        "\n",
        "* ~ (NOT) Inverts all the bits.\n",
        "\n",
        "* << (Zero fill left shift) Shift left by pushing zeros in from the right and let the leftmost bits fall off.\n",
        "\n",
        "* (>>) (Signed right shift) Shift right by pushing copies of the leftmost bit in from the left, and let the rightmost bits fall off."
      ],
      "metadata": {
        "id": "HuV2lSXmuafq"
      }
    },
    {
      "cell_type": "code",
      "source": [
        "a = 22\n",
        "b = 4\n",
        "print(a&b)\n",
        "print(a|b)\n",
        "print(a^b)\n",
        "print(~a)\n",
        "print(a<<2)\n",
        "print(b<<2)\n",
        "print(a>>2)\n",
        "print(b>>2)"
      ],
      "metadata": {
        "colab": {
          "base_uri": "https://localhost:8080/"
        },
        "id": "qUBpdv52upHO",
        "outputId": "7556e76d-eb9e-4901-b79c-bc0af9e07da2"
      },
      "execution_count": 20,
      "outputs": [
        {
          "output_type": "stream",
          "name": "stdout",
          "text": [
            "4\n",
            "22\n",
            "18\n",
            "-23\n",
            "88\n",
            "16\n",
            "5\n",
            "1\n"
          ]
        }
      ]
    }
  ]
}