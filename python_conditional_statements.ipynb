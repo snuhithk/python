{
  "nbformat": 4,
  "nbformat_minor": 0,
  "metadata": {
    "colab": {
      "provenance": []
    },
    "kernelspec": {
      "name": "python3",
      "display_name": "Python 3"
    },
    "language_info": {
      "name": "python"
    }
  },
  "cells": [
    {
      "cell_type": "markdown",
      "source": [
        "# Conditional Statements:\n",
        "1. If statement: If statement is the simplest form of a conditional statement. It executes a block of code if the given condition is true."
      ],
      "metadata": {
        "id": "EtKJG78tu_BT"
      }
    },
    {
      "cell_type": "code",
      "execution_count": 1,
      "metadata": {
        "colab": {
          "base_uri": "https://localhost:8080/"
        },
        "id": "8X2xKGeku12U",
        "outputId": "6714a270-cd8a-4d1b-f5e2-38781181acff"
      },
      "outputs": [
        {
          "output_type": "stream",
          "name": "stdout",
          "text": [
            "positive number\n"
          ]
        }
      ],
      "source": [
        "num=8\n",
        "if num>0:\n",
        "  print(\"positive number\")\n",
        "else:\n",
        "  print(\"negative number\")"
      ]
    },
    {
      "cell_type": "code",
      "source": [
        "a = int(input(\"Enter a number:\"))\n",
        "if a > 0:\n",
        "  print(\"Given Number is positive\")"
      ],
      "metadata": {
        "colab": {
          "base_uri": "https://localhost:8080/"
        },
        "id": "RFzzGvwHvO7x",
        "outputId": "9de82d2c-89fe-46c4-9306-c8096d69cbad"
      },
      "execution_count": 2,
      "outputs": [
        {
          "output_type": "stream",
          "name": "stdout",
          "text": [
            "Enter a number:22\n",
            "Given Number is positive\n"
          ]
        }
      ]
    },
    {
      "cell_type": "markdown",
      "source": [
        "2. if-else( ):Executes one block if the condition is True then gives the output, otherwise executes another block."
      ],
      "metadata": {
        "id": "pwh9PltsvZ1q"
      }
    },
    {
      "cell_type": "code",
      "source": [
        "num=int(input(\"enter the number\"))\n",
        "if num>0:\n",
        "  print(\"positive number\")\n",
        "else:\n",
        "  print(\"negative number\")"
      ],
      "metadata": {
        "colab": {
          "base_uri": "https://localhost:8080/"
        },
        "id": "GYQxiDHPvTnS",
        "outputId": "cc18c05a-f172-45e5-feca-a2f9f1d4f468"
      },
      "execution_count": 3,
      "outputs": [
        {
          "output_type": "stream",
          "name": "stdout",
          "text": [
            "enter the number2\n",
            "positive number\n"
          ]
        }
      ]
    },
    {
      "cell_type": "code",
      "source": [
        "a = int(input(\"Enter your age\"))\n",
        "if a >= 18:\n",
        "  print(\"You are eligible for voting\")\n",
        "else:\n",
        "  print(\"You are not eligible for voting\")"
      ],
      "metadata": {
        "colab": {
          "base_uri": "https://localhost:8080/"
        },
        "id": "aBMkHtWzvfAr",
        "outputId": "3f776801-75ef-451c-86f1-ee3bc6aec95a"
      },
      "execution_count": 4,
      "outputs": [
        {
          "output_type": "stream",
          "name": "stdout",
          "text": [
            "Enter your age21\n",
            "You are eligible for voting\n"
          ]
        }
      ]
    },
    {
      "cell_type": "markdown",
      "source": [
        "3. elif: Allows checking multiple conditions."
      ],
      "metadata": {
        "id": "rNGdb-g0vzQB"
      }
    },
    {
      "cell_type": "code",
      "source": [
        "num=int(input(\"enter the number\"))\n",
        "if num>0:\n",
        "  print(\"positive number\")\n",
        "elif num==0:\n",
        "  print(\"zero\")\n",
        "else:\n",
        "  print(\"negative number\")\n",
        ""
      ],
      "metadata": {
        "colab": {
          "base_uri": "https://localhost:8080/"
        },
        "id": "ecst9A9Cvu3k",
        "outputId": "95c4026b-372a-49b8-b704-6715975e3403"
      },
      "execution_count": 5,
      "outputs": [
        {
          "output_type": "stream",
          "name": "stdout",
          "text": [
            "enter the number20\n",
            "positive number\n"
          ]
        }
      ]
    },
    {
      "cell_type": "markdown",
      "source": [
        "# python programs"
      ],
      "metadata": {
        "id": "cOT8r3tNwaN7"
      }
    },
    {
      "cell_type": "code",
      "source": [
        "#even or odd\n",
        "n=int(input(\"enter the number\"))\n",
        "if n%2==0:\n",
        "  print(\"it is even\")\n",
        "else:\n",
        "  print(\"it is odd\")"
      ],
      "metadata": {
        "colab": {
          "base_uri": "https://localhost:8080/"
        },
        "id": "M_DApoM6v6je",
        "outputId": "3b6aaf07-5e2a-41c8-be2a-5084a175e1d9"
      },
      "execution_count": 6,
      "outputs": [
        {
          "output_type": "stream",
          "name": "stdout",
          "text": [
            "enter the number47\n",
            "it is odd\n"
          ]
        }
      ]
    },
    {
      "cell_type": "code",
      "source": [
        "#grading system\n",
        "marks=int(input(\"enter the marks\"))\n",
        "if marks>=90 and marks>=80:\n",
        "  print(\"A+\")\n",
        "elif marks<=80 and marks>=70:\n",
        "  print(\"A\")\n",
        "elif marks<=70 and marks>=60:\n",
        "  print(\"B+\")\n",
        "elif marks<=60 and marks>=50:\n",
        "  print(\"B\")\n",
        "else:\n",
        "  print(\"fail\")"
      ],
      "metadata": {
        "colab": {
          "base_uri": "https://localhost:8080/"
        },
        "id": "xyqCMTPqwnbL",
        "outputId": "a20c309e-c556-4cfd-c77f-32d83c12cd7c"
      },
      "execution_count": 7,
      "outputs": [
        {
          "output_type": "stream",
          "name": "stdout",
          "text": [
            "enter the marks40\n",
            "fail\n"
          ]
        }
      ]
    },
    {
      "cell_type": "code",
      "source": [
        "#smallest number among 3\n",
        "a,b,c=11,23,56\n",
        "if (a<b and a<c):\n",
        " print(\"a is smallest\")\n",
        "elif(b<a and b<c):\n",
        " print('b is smallest')\n",
        "else:\n",
        "  print('c is smallest')"
      ],
      "metadata": {
        "colab": {
          "base_uri": "https://localhost:8080/"
        },
        "id": "F1YolAj0w3q4",
        "outputId": "d39390c7-f01c-4236-8127-8115c159d594"
      },
      "execution_count": 9,
      "outputs": [
        {
          "output_type": "stream",
          "name": "stdout",
          "text": [
            "a is smallest\n"
          ]
        }
      ]
    },
    {
      "cell_type": "code",
      "source": [
        "#greatest number among 3\n",
        "a,b,c=23,45,34\n",
        "if a>b and a>c:\n",
        "  print(\"a is large\")\n",
        "elif b>a and b>c:\n",
        "  print(\"b is large\")\n",
        "else:\n",
        "  print(\"c is large\")"
      ],
      "metadata": {
        "colab": {
          "base_uri": "https://localhost:8080/"
        },
        "id": "K0np5ufhwtQ5",
        "outputId": "84503437-f3b4-4a86-8ed4-2f538cc45d8b"
      },
      "execution_count": 8,
      "outputs": [
        {
          "output_type": "stream",
          "name": "stdout",
          "text": [
            "b is large\n"
          ]
        }
      ]
    },
    {
      "cell_type": "code",
      "source": [
        "#character is vowel or not\n",
        "v=input(\"enter the character :\")\n",
        "if v=='a' or v=='e' or v=='i' or v=='o' or v=='u' or v=='A' or v=='E' or v=='I' or v=='O' or v=='U':\n",
        "  print(\"vowel\")\n",
        "else:\n",
        "  print(\"not vowel\")"
      ],
      "metadata": {
        "colab": {
          "base_uri": "https://localhost:8080/"
        },
        "id": "_YAWZ5jMxiU1",
        "outputId": "62395ea8-4ca3-4f16-9953-23cee4e3bc2c"
      },
      "execution_count": 11,
      "outputs": [
        {
          "output_type": "stream",
          "name": "stdout",
          "text": [
            "enter the character :a\n",
            "vowel\n"
          ]
        }
      ]
    },
    {
      "cell_type": "code",
      "source": [
        "a=input(\"enter the character :\")\n",
        "b=['a','e','i','o','u','A','E','I','O','U']\n",
        "if a in b:\n",
        "  print(\"vowel\")\n",
        "else:\n",
        "  print(\"not vowel\")\n"
      ],
      "metadata": {
        "colab": {
          "base_uri": "https://localhost:8080/"
        },
        "id": "1WW3wceXyVt7",
        "outputId": "6e125c09-9ce7-4aa4-85e8-e844ac5c1f89"
      },
      "execution_count": 20,
      "outputs": [
        {
          "output_type": "stream",
          "name": "stdout",
          "text": [
            "enter the character :A\n",
            "vowel\n"
          ]
        }
      ]
    },
    {
      "cell_type": "code",
      "source": [
        "# write a program to swap two numbers\n",
        "a=5\n",
        "b=12\n",
        "print(\"before swapping\",a,b)\n",
        "if True:\n",
        "  a,b = b,a\n",
        "print(\"after swapping\",a,b)"
      ],
      "metadata": {
        "colab": {
          "base_uri": "https://localhost:8080/"
        },
        "id": "Wl23nkhyxwUO",
        "outputId": "9eb1a3cc-d7f7-420a-8626-907827bade3c"
      },
      "execution_count": 17,
      "outputs": [
        {
          "output_type": "stream",
          "name": "stdout",
          "text": [
            "before swapping 5 12\n",
            "after swapping 12 5\n"
          ]
        }
      ]
    },
    {
      "cell_type": "code",
      "source": [
        "a=5\n",
        "b=12\n",
        "print(\"before swapping\",a,b)\n",
        "temp = a\n",
        "a = b\n",
        "b = temp\n",
        "print(\"after swapping\",a,b)"
      ],
      "metadata": {
        "colab": {
          "base_uri": "https://localhost:8080/"
        },
        "id": "PR8ciOuux5XH",
        "outputId": "55ba3535-0f66-4e65-f696-e4b2401976a1"
      },
      "execution_count": 14,
      "outputs": [
        {
          "output_type": "stream",
          "name": "stdout",
          "text": [
            "before swapping 5 12\n",
            "after swapping 12 5\n"
          ]
        }
      ]
    }
  ]
}