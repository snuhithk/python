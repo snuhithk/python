{
  "nbformat": 4,
  "nbformat_minor": 0,
  "metadata": {
    "colab": {
      "provenance": []
    },
    "kernelspec": {
      "name": "python3",
      "display_name": "Python 3"
    },
    "language_info": {
      "name": "python"
    }
  },
  "cells": [
    {
      "cell_type": "markdown",
      "source": [
        "#object oriented programming :\n",
        "* OOPs is a way of organizing code that uses objects and classes to represent real-world entities and their behavior. In OOPs, object has attributes thing that has specific data and can perform certain actions using methods.\n",
        "\n",
        "# OOPs Concepts in Python:\n",
        "1. Class in Python\n",
        "2. Objects in Python\n",
        "3. Inheritance in Python\n",
        "4. Encapsulation in Python\n",
        "5. Polymorphism in Python\n",
        "6. Data Abstraction in Python"
      ],
      "metadata": {
        "id": "WcT3Sgdis7TJ"
      }
    },
    {
      "cell_type": "code",
      "source": [
        "class myclass:\n",
        "  x = 5"
      ],
      "metadata": {
        "id": "SWfralpZZul8"
      },
      "execution_count": 27,
      "outputs": []
    },
    {
      "cell_type": "code",
      "source": [
        "obj = myclass()\n",
        "print(obj.x)"
      ],
      "metadata": {
        "colab": {
          "base_uri": "https://localhost:8080/"
        },
        "id": "1Xrh-eLKZ89c",
        "outputId": "6d8369e2-1486-4dc0-f6a0-2a36c79e9c6c"
      },
      "execution_count": 28,
      "outputs": [
        {
          "output_type": "stream",
          "name": "stdout",
          "text": [
            "5\n"
          ]
        }
      ]
    },
    {
      "cell_type": "code",
      "source": [
        "class ac:\n",
        "  def __init__(self,name,age):\n",
        "    self.name= name\n",
        "    self.age= age"
      ],
      "metadata": {
        "id": "OZ69ZxnaYfde"
      },
      "execution_count": 29,
      "outputs": []
    },
    {
      "cell_type": "code",
      "source": [
        "obj = ac(\"snuhith\",21)\n",
        "\n",
        "obj.name"
      ],
      "metadata": {
        "colab": {
          "base_uri": "https://localhost:8080/",
          "height": 36
        },
        "id": "ZhcBHH54ZbN9",
        "outputId": "13b1f357-c11a-4945-871d-983cb82c7fc2"
      },
      "execution_count": 30,
      "outputs": [
        {
          "output_type": "execute_result",
          "data": {
            "text/plain": [
              "'snuhith'"
            ],
            "application/vnd.google.colaboratory.intrinsic+json": {
              "type": "string"
            }
          },
          "metadata": {},
          "execution_count": 30
        }
      ]
    },
    {
      "cell_type": "code",
      "source": [
        "obj.age"
      ],
      "metadata": {
        "colab": {
          "base_uri": "https://localhost:8080/"
        },
        "id": "n8P6Sa9nZrnP",
        "outputId": "2d19e544-0b8e-40d8-9aeb-55de2822ad06"
      },
      "execution_count": 31,
      "outputs": [
        {
          "output_type": "execute_result",
          "data": {
            "text/plain": [
              "21"
            ]
          },
          "metadata": {},
          "execution_count": 31
        }
      ]
    },
    {
      "cell_type": "markdown",
      "source": [
        "#Python Inheritance:\n",
        "* Inheritance allows us to define a class that inherits all the methods and properties from another class.\n",
        "\n",
        "* Parent class is the class being inherited from, also called base class.\n",
        "\n",
        "* Child class is the class that inherits from another class, also called derived class."
      ],
      "metadata": {
        "id": "DqD2TlBWwVTu"
      }
    },
    {
      "cell_type": "code",
      "source": [
        "# inheritance\n",
        "class bike:\n",
        "  def __init__(self,name,model,year):\n",
        "    self.name= name\n",
        "    self.model= model\n",
        "    self.year= year\n",
        "\n",
        "  def price(self):\n",
        "    print(\"price is too high\")\n"
      ],
      "metadata": {
        "id": "ck-tfFEYZtua"
      },
      "execution_count": 32,
      "outputs": []
    },
    {
      "cell_type": "code",
      "source": [
        "bi = bike(\"honda\",\"activa\",\"2020\")\n",
        "bi.price()"
      ],
      "metadata": {
        "colab": {
          "base_uri": "https://localhost:8080/"
        },
        "id": "Y1GEk5rma3mq",
        "outputId": "2416fad1-1727-4a7a-a79b-383c8944d465"
      },
      "execution_count": 33,
      "outputs": [
        {
          "output_type": "stream",
          "name": "stdout",
          "text": [
            "price is too high\n"
          ]
        }
      ]
    },
    {
      "cell_type": "code",
      "source": [
        "class animal:\n",
        "  def eat(self):\n",
        "    print(\"i can eat\")\n",
        "\n",
        "  def sleep(self):\n",
        "    print(\"sleep\")\n",
        "\n",
        "class child1(animal):\n",
        "    def play(self):\n",
        "      print(\"play\")\n",
        "\n",
        "class child2(animal):\n",
        "    def run(self):\n",
        "      print(\"run\")\n"
      ],
      "metadata": {
        "id": "fv7Bp41qcVhl"
      },
      "execution_count": 34,
      "outputs": []
    },
    {
      "cell_type": "code",
      "source": [
        "cat = animal()"
      ],
      "metadata": {
        "id": "-8xpJD_tcomt"
      },
      "execution_count": 35,
      "outputs": []
    },
    {
      "cell_type": "code",
      "source": [
        "cat.eat()"
      ],
      "metadata": {
        "colab": {
          "base_uri": "https://localhost:8080/"
        },
        "id": "9yxJzQbKcr8z",
        "outputId": "d32cc2fc-cfb9-4b47-f083-76f49be18278"
      },
      "execution_count": 36,
      "outputs": [
        {
          "output_type": "stream",
          "name": "stdout",
          "text": [
            "i can eat\n"
          ]
        }
      ]
    },
    {
      "cell_type": "code",
      "source": [
        "cat.sleep()"
      ],
      "metadata": {
        "colab": {
          "base_uri": "https://localhost:8080/"
        },
        "id": "pNqeEXsOcw6B",
        "outputId": "a08445b2-5a52-452b-d82a-5c094b700f42"
      },
      "execution_count": 37,
      "outputs": [
        {
          "output_type": "stream",
          "name": "stdout",
          "text": [
            "sleep\n"
          ]
        }
      ]
    },
    {
      "cell_type": "code",
      "source": [
        "smallcat = child1()"
      ],
      "metadata": {
        "id": "RhOb-cYdu5jU"
      },
      "execution_count": 38,
      "outputs": []
    },
    {
      "cell_type": "code",
      "source": [
        "smallcat.sleep()"
      ],
      "metadata": {
        "colab": {
          "base_uri": "https://localhost:8080/"
        },
        "id": "z_8ThmcKvZ9x",
        "outputId": "00fc524b-2223-4a3f-e048-825aee2c774d"
      },
      "execution_count": 39,
      "outputs": [
        {
          "output_type": "stream",
          "name": "stdout",
          "text": [
            "sleep\n"
          ]
        }
      ]
    },
    {
      "cell_type": "code",
      "source": [
        "class transport:\n",
        "  def distance(self):\n",
        "    print(\"distance is high\")\n",
        "\n",
        "  def location(self):\n",
        "    print(\"location is far\")\n",
        "\n",
        "class bike(transport):\n",
        "  def price(self):\n",
        "    print(\"this is my bike model\")\n",
        "\n",
        "class car(transport):\n",
        "  def speed(self):\n",
        "    print(\"speed is high\")\n",
        "\n",
        "class plane(transport):\n",
        "  def colour(self):\n",
        "    print(\"colour is black\")"
      ],
      "metadata": {
        "id": "CSSWYmSvdCB3"
      },
      "execution_count": 40,
      "outputs": []
    }
  ]
}