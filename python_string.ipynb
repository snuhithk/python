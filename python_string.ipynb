{
  "nbformat": 4,
  "nbformat_minor": 0,
  "metadata": {
    "colab": {
      "provenance": []
    },
    "kernelspec": {
      "name": "python3",
      "display_name": "Python 3"
    },
    "language_info": {
      "name": "python"
    }
  },
  "cells": [
    {
      "cell_type": "markdown",
      "source": [
        "#String( ) :\n",
        "* A string is a sequence of characters.\n",
        "* Enclosed in single quotes (' '), double quotes (\" \"), or triple quotes (''' ''') for multi-line text."
      ],
      "metadata": {
        "id": "DLo7unFQjPjp"
      }
    },
    {
      "cell_type": "code",
      "execution_count": null,
      "metadata": {
        "id": "QPBX-OlFdTz4",
        "colab": {
          "base_uri": "https://localhost:8080/"
        },
        "outputId": "7d03fccd-e109-4d17-ec75-3f14eb53c47a"
      },
      "outputs": [
        {
          "output_type": "stream",
          "name": "stdout",
          "text": [
            "my name is snuhith \n",
            "my name is snuhith\n",
            "my name is snuhith\n"
          ]
        }
      ],
      "source": [
        "a ='my name is snuhith '\n",
        "print(a)\n",
        "\n",
        "b = \"my name is snuhith\"\n",
        "print(b)\n",
        "\n",
        "c = '''my name is snuhith'''\n",
        "print(c)"
      ]
    },
    {
      "cell_type": "markdown",
      "source": [
        "# Indexing( ) :\n",
        "* Indexing in Python strings allows you to access individual characters using their position.\n",
        "* There are two types of indexing : positive and negative indexing."
      ],
      "metadata": {
        "id": "D6qtuNyDjrRO"
      }
    },
    {
      "cell_type": "code",
      "source": [
        "a = 'Hello'\n",
        "a[0]\n"
      ],
      "metadata": {
        "colab": {
          "base_uri": "https://localhost:8080/",
          "height": 36
        },
        "id": "g-Z9MObBjyNZ",
        "outputId": "bfc8827e-399f-4df3-ade0-7caa6e494aef"
      },
      "execution_count": null,
      "outputs": [
        {
          "output_type": "execute_result",
          "data": {
            "text/plain": [
              "'H'"
            ],
            "application/vnd.google.colaboratory.intrinsic+json": {
              "type": "string"
            }
          },
          "metadata": {},
          "execution_count": 2
        }
      ]
    },
    {
      "cell_type": "code",
      "source": [
        "a = 'python'\n",
        "a[2]"
      ],
      "metadata": {
        "colab": {
          "base_uri": "https://localhost:8080/",
          "height": 36
        },
        "id": "6y5ICN87j1pT",
        "outputId": "72a87dad-3111-437d-fbcb-f88a841f0846"
      },
      "execution_count": null,
      "outputs": [
        {
          "output_type": "execute_result",
          "data": {
            "text/plain": [
              "'t'"
            ],
            "application/vnd.google.colaboratory.intrinsic+json": {
              "type": "string"
            }
          },
          "metadata": {},
          "execution_count": 3
        }
      ]
    },
    {
      "cell_type": "code",
      "source": [
        "a = 'python'\n",
        "a[-4]"
      ],
      "metadata": {
        "colab": {
          "base_uri": "https://localhost:8080/",
          "height": 36
        },
        "id": "OFMIxfuhj3kt",
        "outputId": "059ab777-9aff-4102-dc98-6dd412e908ca"
      },
      "execution_count": null,
      "outputs": [
        {
          "output_type": "execute_result",
          "data": {
            "text/plain": [
              "'t'"
            ],
            "application/vnd.google.colaboratory.intrinsic+json": {
              "type": "string"
            }
          },
          "metadata": {},
          "execution_count": 4
        }
      ]
    },
    {
      "cell_type": "code",
      "source": [
        "a = 'python'\n",
        "a[0]"
      ],
      "metadata": {
        "colab": {
          "base_uri": "https://localhost:8080/",
          "height": 36
        },
        "id": "VY0IEvYQj9dh",
        "outputId": "91f86082-e63c-48e3-8b99-10282d02cf32"
      },
      "execution_count": null,
      "outputs": [
        {
          "output_type": "execute_result",
          "data": {
            "text/plain": [
              "'p'"
            ],
            "application/vnd.google.colaboratory.intrinsic+json": {
              "type": "string"
            }
          },
          "metadata": {},
          "execution_count": 5
        }
      ]
    },
    {
      "cell_type": "markdown",
      "source": [
        "# Slicing( ) :\n",
        "* Slicing is used to extract a portion (substring) of a string."
      ],
      "metadata": {
        "id": "EjnPjGo4kBgb"
      }
    },
    {
      "cell_type": "code",
      "source": [
        "a = 'python'\n",
        "a[2:]"
      ],
      "metadata": {
        "colab": {
          "base_uri": "https://localhost:8080/",
          "height": 36
        },
        "id": "jBmu1hUdkIts",
        "outputId": "97f1657a-bf4f-40b9-9155-e10ff097796f"
      },
      "execution_count": null,
      "outputs": [
        {
          "output_type": "execute_result",
          "data": {
            "text/plain": [
              "'thon'"
            ],
            "application/vnd.google.colaboratory.intrinsic+json": {
              "type": "string"
            }
          },
          "metadata": {},
          "execution_count": 6
        }
      ]
    },
    {
      "cell_type": "code",
      "source": [
        "a = 'python'\n",
        "a[:5]"
      ],
      "metadata": {
        "colab": {
          "base_uri": "https://localhost:8080/",
          "height": 36
        },
        "id": "n6mraR7ckQMV",
        "outputId": "b7ba2468-d26a-44e4-acc8-e12bdc92eebd"
      },
      "execution_count": null,
      "outputs": [
        {
          "output_type": "execute_result",
          "data": {
            "text/plain": [
              "'pytho'"
            ],
            "application/vnd.google.colaboratory.intrinsic+json": {
              "type": "string"
            }
          },
          "metadata": {},
          "execution_count": 7
        }
      ]
    },
    {
      "cell_type": "code",
      "source": [
        "a = 'python'\n",
        "a[-5:-2]"
      ],
      "metadata": {
        "colab": {
          "base_uri": "https://localhost:8080/",
          "height": 36
        },
        "id": "iOKL0y8lkUKw",
        "outputId": "bae4ae8d-0e40-4103-9552-66fd266e90a5"
      },
      "execution_count": null,
      "outputs": [
        {
          "output_type": "execute_result",
          "data": {
            "text/plain": [
              "'yth'"
            ],
            "application/vnd.google.colaboratory.intrinsic+json": {
              "type": "string"
            }
          },
          "metadata": {},
          "execution_count": 8
        }
      ]
    },
    {
      "cell_type": "markdown",
      "source": [
        "# String Format:\n",
        "1. format( ) method:\n",
        "* The format() method allows inserting variables into a string using {} placeholders, supporting both positional and named arguments.\n",
        "* It provides advanced formatting options like alignment, padding, and number formatting (e.g., {:.2f} for two decimal places).\n"
      ],
      "metadata": {
        "id": "wPeeOWsIkcH9"
      }
    },
    {
      "cell_type": "code",
      "source": [
        "name = 'snuhith'\n",
        "age = '21'\n",
        "print('My name is {} and My age is {} year old'.format(name,age))"
      ],
      "metadata": {
        "colab": {
          "base_uri": "https://localhost:8080/"
        },
        "id": "VZe2Tgsckalt",
        "outputId": "1da8fd1d-7bfc-4241-d696-105bcc4af337"
      },
      "execution_count": null,
      "outputs": [
        {
          "output_type": "stream",
          "name": "stdout",
          "text": [
            "My name is snuhith and My age is 21 year old\n"
          ]
        }
      ]
    },
    {
      "cell_type": "code",
      "source": [
        "name = 'TEKS'\n",
        "place = 'hitech city'\n",
        "print('{} acadamy is in {}'.format(name,place))"
      ],
      "metadata": {
        "colab": {
          "base_uri": "https://localhost:8080/"
        },
        "id": "eXNJpsCGk24O",
        "outputId": "ee63f9ad-b915-4e08-bcd4-2fcbb3c45641"
      },
      "execution_count": null,
      "outputs": [
        {
          "output_type": "stream",
          "name": "stdout",
          "text": [
            "TEKS acadamy is in hitech city\n"
          ]
        }
      ]
    },
    {
      "cell_type": "markdown",
      "source": [
        "2. f.string method\n",
        "* f-strings let you insert variables directly into a string using {}.\n",
        "* They are faster than .format() formatting because they are evaluated at runtime directly."
      ],
      "metadata": {
        "id": "mPWrk5CTlLod"
      }
    },
    {
      "cell_type": "code",
      "source": [
        "name = 'snuhith'\n",
        "age = '21'\n",
        "print(f'My name is {name} and My age is {age} year old')"
      ],
      "metadata": {
        "colab": {
          "base_uri": "https://localhost:8080/"
        },
        "id": "m6VQ6jJ7lAfj",
        "outputId": "818a125a-f390-4086-d49c-e340b4bf8d7c"
      },
      "execution_count": null,
      "outputs": [
        {
          "output_type": "stream",
          "name": "stdout",
          "text": [
            "My name is snuhith and My age is 21 year old\n"
          ]
        }
      ]
    },
    {
      "cell_type": "code",
      "source": [
        "name = 'TEKS'\n",
        "place = 'hitech city'\n",
        "print(f'{name} acadamy is in {place}')"
      ],
      "metadata": {
        "colab": {
          "base_uri": "https://localhost:8080/"
        },
        "id": "3Z61wrzolZmf",
        "outputId": "91a2bd54-60da-4555-ecae-cc3e6d77b884"
      },
      "execution_count": null,
      "outputs": [
        {
          "output_type": "stream",
          "name": "stdout",
          "text": [
            "TEKS acadamy is in hitech city\n"
          ]
        }
      ]
    },
    {
      "cell_type": "markdown",
      "source": [
        "3. concatination:\n",
        "* Joining two or more strings using the + operator.\n",
        "* Using += allows adding strings to an existing string.\n"
      ],
      "metadata": {
        "id": "ki_yUgTull5c"
      }
    },
    {
      "cell_type": "code",
      "source": [
        "a = 'hello'\n",
        "b = 'world'\n",
        "print(a+\" \"+b)"
      ],
      "metadata": {
        "colab": {
          "base_uri": "https://localhost:8080/"
        },
        "id": "eEsMLMyglfo8",
        "outputId": "fb4b93f2-282e-4555-a891-f248f20600c6"
      },
      "execution_count": null,
      "outputs": [
        {
          "output_type": "stream",
          "name": "stdout",
          "text": [
            "hello world\n"
          ]
        }
      ]
    },
    {
      "cell_type": "code",
      "source": [
        "a = 'hello'\n",
        "a += 'world'\n",
        "print(a)"
      ],
      "metadata": {
        "colab": {
          "base_uri": "https://localhost:8080/"
        },
        "id": "waQOv8JSl2GA",
        "outputId": "a8ec4a50-cab6-4282-a77d-08555849c132"
      },
      "execution_count": null,
      "outputs": [
        {
          "output_type": "stream",
          "name": "stdout",
          "text": [
            "helloworld\n"
          ]
        }
      ]
    },
    {
      "cell_type": "code",
      "source": [
        "a = 'hello'\n",
        "b = 'world'\n",
        "print(a+b)"
      ],
      "metadata": {
        "colab": {
          "base_uri": "https://localhost:8080/"
        },
        "id": "9rTmAPAel5ZO",
        "outputId": "db001fa1-eda5-4bd5-c2fb-4f6b0f5318c6"
      },
      "execution_count": null,
      "outputs": [
        {
          "output_type": "stream",
          "name": "stdout",
          "text": [
            "helloworld\n"
          ]
        }
      ]
    },
    {
      "cell_type": "markdown",
      "source": [
        "4. Repetition( ):\n",
        "* Repeating a string multiple times using the * operator.\n",
        "* It is useful for creating patterns or repeating characters easily."
      ],
      "metadata": {
        "id": "qQzizHNHl_n1"
      }
    },
    {
      "cell_type": "code",
      "source": [
        "a = \"Booking start at 11AM\"\n",
        "a * 5"
      ],
      "metadata": {
        "colab": {
          "base_uri": "https://localhost:8080/",
          "height": 53
        },
        "id": "fveA38bal8QP",
        "outputId": "18911c99-54d1-4788-9dfb-f2c919eb0945"
      },
      "execution_count": null,
      "outputs": [
        {
          "output_type": "execute_result",
          "data": {
            "text/plain": [
              "'Booking start at 11AMBooking start at 11AMBooking start at 11AMBooking start at 11AMBooking start at 11AM'"
            ],
            "application/vnd.google.colaboratory.intrinsic+json": {
              "type": "string"
            }
          },
          "metadata": {},
          "execution_count": 18
        }
      ]
    },
    {
      "cell_type": "code",
      "source": [
        "print(\"hey\"*5)"
      ],
      "metadata": {
        "colab": {
          "base_uri": "https://localhost:8080/"
        },
        "id": "yYSQH5L9mJ3m",
        "outputId": "025c8d5f-32ea-4994-8966-7a3de5f5b368"
      },
      "execution_count": null,
      "outputs": [
        {
          "output_type": "stream",
          "name": "stdout",
          "text": [
            "heyheyheyheyhey\n"
          ]
        }
      ]
    },
    {
      "cell_type": "markdown",
      "source": [
        "# String Methods:\n",
        "1. len( ):\n",
        "* Returns the number of characters in a string, including spaces.\n",
        "* It helps in finding the length of a string for loops, validations, and processing."
      ],
      "metadata": {
        "id": "vPYMUaD8mVXU"
      }
    },
    {
      "cell_type": "code",
      "source": [
        "a = \"Booking start at 11AM\"\n",
        "len(a)"
      ],
      "metadata": {
        "colab": {
          "base_uri": "https://localhost:8080/"
        },
        "id": "CDgTRqfLmSwi",
        "outputId": "7d0d90dd-651a-45d8-d7cf-1ab73f378d68"
      },
      "execution_count": null,
      "outputs": [
        {
          "output_type": "execute_result",
          "data": {
            "text/plain": [
              "21"
            ]
          },
          "metadata": {},
          "execution_count": 21
        }
      ]
    },
    {
      "cell_type": "code",
      "source": [
        "b =(\"python\")\n",
        "len(b)"
      ],
      "metadata": {
        "colab": {
          "base_uri": "https://localhost:8080/"
        },
        "id": "qs68xxJYmpwm",
        "outputId": "5909a1ee-3799-4798-911a-db7764bcbf45"
      },
      "execution_count": null,
      "outputs": [
        {
          "output_type": "execute_result",
          "data": {
            "text/plain": [
              "6"
            ]
          },
          "metadata": {},
          "execution_count": 22
        }
      ]
    },
    {
      "cell_type": "markdown",
      "source": [
        "2. upper( ):\n",
        "* Converts all letters in a string to uppercase.\n",
        "* It does not change the original string; it returns a new uppercase version."
      ],
      "metadata": {
        "id": "l2dRk8pXm0b2"
      }
    },
    {
      "cell_type": "code",
      "source": [
        "a = \"Booking start at 11AM\"\n",
        "a.upper()"
      ],
      "metadata": {
        "colab": {
          "base_uri": "https://localhost:8080/",
          "height": 36
        },
        "id": "7Z8RwDlJmyfm",
        "outputId": "70a32359-164d-430f-fa2c-656767e0bfa6"
      },
      "execution_count": null,
      "outputs": [
        {
          "output_type": "execute_result",
          "data": {
            "text/plain": [
              "'BOOKING START AT 11AM'"
            ],
            "application/vnd.google.colaboratory.intrinsic+json": {
              "type": "string"
            }
          },
          "metadata": {},
          "execution_count": 23
        }
      ]
    },
    {
      "cell_type": "code",
      "source": [
        "print(\"python\".upper())"
      ],
      "metadata": {
        "colab": {
          "base_uri": "https://localhost:8080/"
        },
        "id": "ZDOrpfKnnHv0",
        "outputId": "55c3c3ae-4aef-4849-915f-ea7c1cf3a710"
      },
      "execution_count": null,
      "outputs": [
        {
          "output_type": "stream",
          "name": "stdout",
          "text": [
            "PYTHON\n"
          ]
        }
      ]
    },
    {
      "cell_type": "markdown",
      "source": [
        "3. lower( ) :\n",
        "* Converts all letters in a string to lowercase.\n",
        "* It does not modify the original string but returns a new lowercase version."
      ],
      "metadata": {
        "id": "oD7LKlEDnUZI"
      }
    },
    {
      "cell_type": "code",
      "source": [
        "a = \"BOOKING STARTS AT 11AM\"\n",
        "a.lower()"
      ],
      "metadata": {
        "colab": {
          "base_uri": "https://localhost:8080/",
          "height": 36
        },
        "id": "N-rkWunanQoL",
        "outputId": "2eb0ced0-a533-4346-e8ed-8aa77e0da859"
      },
      "execution_count": null,
      "outputs": [
        {
          "output_type": "execute_result",
          "data": {
            "text/plain": [
              "'booking starts at 11am'"
            ],
            "application/vnd.google.colaboratory.intrinsic+json": {
              "type": "string"
            }
          },
          "metadata": {},
          "execution_count": 25
        }
      ]
    },
    {
      "cell_type": "code",
      "source": [
        "print(\"PYTHON\".lower())"
      ],
      "metadata": {
        "colab": {
          "base_uri": "https://localhost:8080/"
        },
        "id": "aE4ORMVenmWJ",
        "outputId": "7acccb45-47a2-460b-bcfd-4590f668e31c"
      },
      "execution_count": null,
      "outputs": [
        {
          "output_type": "stream",
          "name": "stdout",
          "text": [
            "python\n"
          ]
        }
      ]
    },
    {
      "cell_type": "markdown",
      "source": [
        "4. count( ):\n",
        "* Counts how many times a specific substring appears in a string.\n",
        "* It is case-sensitive, [\"Hello\".count(\"h\") and \"Hello\".count(\"H\") give different results]."
      ],
      "metadata": {
        "id": "2DF8TIH7nt8p"
      }
    },
    {
      "cell_type": "code",
      "source": [
        "a= \"data science\"\n",
        "a.count('a')"
      ],
      "metadata": {
        "colab": {
          "base_uri": "https://localhost:8080/"
        },
        "id": "75BnGbKonsyk",
        "outputId": "36c82e37-4c69-4db7-af4d-ae7ce335c41f"
      },
      "execution_count": null,
      "outputs": [
        {
          "output_type": "execute_result",
          "data": {
            "text/plain": [
              "2"
            ]
          },
          "metadata": {},
          "execution_count": 29
        }
      ]
    },
    {
      "cell_type": "code",
      "source": [
        "print(\"BOOKING STARTS AT 11AM\".count('o'))"
      ],
      "metadata": {
        "colab": {
          "base_uri": "https://localhost:8080/"
        },
        "id": "xOoAU5DIn7pW",
        "outputId": "fb3785f8-060b-4a9c-a87b-0405029c9279"
      },
      "execution_count": null,
      "outputs": [
        {
          "output_type": "stream",
          "name": "stdout",
          "text": [
            "0\n"
          ]
        }
      ]
    },
    {
      "cell_type": "markdown",
      "source": [
        "5. split( ):\n",
        "* Breaks a string into a list of words based on a separator (default is space).\n",
        "* It helps in processing sentences by dividing them into smaller parts."
      ],
      "metadata": {
        "id": "Hc1gAmLloUdS"
      }
    },
    {
      "cell_type": "code",
      "source": [
        "a = \"BOOKING START AT 11AM\"\n",
        "a.split()"
      ],
      "metadata": {
        "colab": {
          "base_uri": "https://localhost:8080/"
        },
        "id": "Cf2t4ztMoaZI",
        "outputId": "e7144228-f2ae-40da-9cbf-df7cd87c23a6"
      },
      "execution_count": null,
      "outputs": [
        {
          "output_type": "execute_result",
          "data": {
            "text/plain": [
              "['BOOKING', 'START', 'AT', '11AM']"
            ]
          },
          "metadata": {},
          "execution_count": 36
        }
      ]
    },
    {
      "cell_type": "code",
      "source": [
        "print(\"BOOKING START AT 11AM\".split())"
      ],
      "metadata": {
        "colab": {
          "base_uri": "https://localhost:8080/"
        },
        "id": "2YcF29CToepF",
        "outputId": "abd92ad3-dbc3-4185-e913-30e2a59fe730"
      },
      "execution_count": null,
      "outputs": [
        {
          "output_type": "stream",
          "name": "stdout",
          "text": [
            "['BOOKING', 'START', 'AT', '11AM']\n"
          ]
        }
      ]
    },
    {
      "cell_type": "markdown",
      "source": [
        "6. strip( ):\n",
        "* Removes spaces (or specified characters) from the beginning and end of a string.\n",
        "* It does not change the original string but returns a new trimmed version.\n"
      ],
      "metadata": {
        "id": "vRL3SrMKonxm"
      }
    },
    {
      "cell_type": "code",
      "source": [
        "a = \"  BOOKING START AT 11AM  \"\n",
        "a.strip()"
      ],
      "metadata": {
        "colab": {
          "base_uri": "https://localhost:8080/",
          "height": 36
        },
        "id": "pLznpRuHolP4",
        "outputId": "8852ed66-6d17-4393-81da-629e4471955a"
      },
      "execution_count": null,
      "outputs": [
        {
          "output_type": "execute_result",
          "data": {
            "text/plain": [
              "'BOOKING START AT 11AM'"
            ],
            "application/vnd.google.colaboratory.intrinsic+json": {
              "type": "string"
            }
          },
          "metadata": {},
          "execution_count": 38
        }
      ]
    },
    {
      "cell_type": "code",
      "source": [
        "print(\"  BOOKING START AT 11AM  \".strip())"
      ],
      "metadata": {
        "colab": {
          "base_uri": "https://localhost:8080/"
        },
        "id": "gUEvT_6qo1o4",
        "outputId": "70bd5b43-4282-45ba-acc2-ac3b3f3cb8e6"
      },
      "execution_count": null,
      "outputs": [
        {
          "output_type": "stream",
          "name": "stdout",
          "text": [
            "BOOKING START AT 11AM\n"
          ]
        }
      ]
    },
    {
      "cell_type": "markdown",
      "source": [
        "7. center( ):\n",
        "* The center(width, fillchar) method in Python returns a new string that is centered within the given width, using the specified fill character (default is a space)."
      ],
      "metadata": {
        "id": "FUZUNWy2pDUY"
      }
    },
    {
      "cell_type": "code",
      "source": [
        "a = \"hello\"\n",
        "print(a.center(9, \"_\"))"
      ],
      "metadata": {
        "colab": {
          "base_uri": "https://localhost:8080/"
        },
        "id": "Fp0a1_RQpRkI",
        "outputId": "edd3f0fb-11a6-4dac-c15b-3b74ff86b1fe"
      },
      "execution_count": null,
      "outputs": [
        {
          "output_type": "stream",
          "name": "stdout",
          "text": [
            "__hello__\n"
          ]
        }
      ]
    },
    {
      "cell_type": "markdown",
      "source": [
        "8. endswith( ):\n",
        "* string ends with the specified suffix and returns True or False.\n",
        "* It can also check within a specific range using optional start and end parameters."
      ],
      "metadata": {
        "id": "HRSLGo1mpWI-"
      }
    },
    {
      "cell_type": "code",
      "source": [
        "a = \"hello world\"\n",
        "print(a.endswith(\"world\"))"
      ],
      "metadata": {
        "colab": {
          "base_uri": "https://localhost:8080/"
        },
        "id": "XPqn5bN_pVL3",
        "outputId": "1379cdb2-4884-4855-bb42-10c3e1f1c84f"
      },
      "execution_count": null,
      "outputs": [
        {
          "output_type": "stream",
          "name": "stdout",
          "text": [
            "True\n"
          ]
        }
      ]
    },
    {
      "cell_type": "code",
      "source": [
        "print(\"hello world\".endswith(\"d\"))"
      ],
      "metadata": {
        "colab": {
          "base_uri": "https://localhost:8080/"
        },
        "id": "X2hZgT7Pph0g",
        "outputId": "9e55221f-0115-4d29-deb5-acce535cd123"
      },
      "execution_count": null,
      "outputs": [
        {
          "output_type": "stream",
          "name": "stdout",
          "text": [
            "True\n"
          ]
        }
      ]
    },
    {
      "cell_type": "markdown",
      "source": [
        "9. expandtabs():\n",
        "* Replaces tab characters (\\t) in a string with spaces.\n",
        "* The tabsize parameter (default is 8) specifies the number of spaces per tab."
      ],
      "metadata": {
        "id": "xJUluZV4pp4L"
      }
    },
    {
      "cell_type": "code",
      "source": [
        "a = \"Hello\\tWorld\"\n",
        "print(a.expandtabs(4))"
      ],
      "metadata": {
        "colab": {
          "base_uri": "https://localhost:8080/"
        },
        "id": "8PlAEOnKpli2",
        "outputId": "f48d695e-5426-4798-e36b-4e4a1881c7b4"
      },
      "execution_count": null,
      "outputs": [
        {
          "output_type": "stream",
          "name": "stdout",
          "text": [
            "Hello   World\n"
          ]
        }
      ]
    },
    {
      "cell_type": "code",
      "source": [
        "print(\"Hello\\tWorld\".expandtabs(4))"
      ],
      "metadata": {
        "colab": {
          "base_uri": "https://localhost:8080/"
        },
        "id": "UtbzJZqipwrj",
        "outputId": "254239f4-c972-4304-e006-8e488c8a7af6"
      },
      "execution_count": null,
      "outputs": [
        {
          "output_type": "stream",
          "name": "stdout",
          "text": [
            "Hello   World\n"
          ]
        }
      ]
    },
    {
      "cell_type": "markdown",
      "source": [
        "10. find( ):\n",
        "* Returns the lowest index of the specified substring within the string.\n",
        "* If the substring is not found, it returns -1."
      ],
      "metadata": {
        "id": "k8-5c1sZp2Qd"
      }
    },
    {
      "cell_type": "code",
      "source": [
        "a = \"hello world\"\n",
        "print(a.find(\"world\"))"
      ],
      "metadata": {
        "colab": {
          "base_uri": "https://localhost:8080/"
        },
        "id": "w0C_qxRwpzQf",
        "outputId": "17df2484-354a-4399-ec8e-9993694c375f"
      },
      "execution_count": null,
      "outputs": [
        {
          "output_type": "stream",
          "name": "stdout",
          "text": [
            "6\n"
          ]
        }
      ]
    },
    {
      "cell_type": "code",
      "source": [
        "print(\"Hello World\".find(\"Python\"))"
      ],
      "metadata": {
        "colab": {
          "base_uri": "https://localhost:8080/"
        },
        "id": "rEQq80YfqH5z",
        "outputId": "1507a182-1bf7-4623-b78e-a6e0511a0c94"
      },
      "execution_count": null,
      "outputs": [
        {
          "output_type": "stream",
          "name": "stdout",
          "text": [
            "-1\n"
          ]
        }
      ]
    },
    {
      "cell_type": "markdown",
      "source": [
        "11. replace( ):\n",
        "* Returns a new string where all occurrences of the old substring are replaced with new.\n",
        "* Replace(old, new, count) The optional count parameter specifies how many replacements to make."
      ],
      "metadata": {
        "id": "tm7gGg-OqMR2"
      }
    },
    {
      "cell_type": "code",
      "source": [
        "a = \"hello world\"\n",
        "print(a.replace(\"world\", \"Python\"))"
      ],
      "metadata": {
        "colab": {
          "base_uri": "https://localhost:8080/"
        },
        "id": "29YKtbgVqJ_7",
        "outputId": "23db9e98-1df7-4fb3-c58b-c1184e2c1c53"
      },
      "execution_count": null,
      "outputs": [
        {
          "output_type": "stream",
          "name": "stdout",
          "text": [
            "hello Python\n"
          ]
        }
      ]
    },
    {
      "cell_type": "code",
      "source": [
        "print(\"hello world\".replace(\"o\",\"#\",1))"
      ],
      "metadata": {
        "colab": {
          "base_uri": "https://localhost:8080/"
        },
        "id": "ZcxH4tBIqWD5",
        "outputId": "d05a66fb-20d2-48c1-fc39-5703cc64627e"
      },
      "execution_count": null,
      "outputs": [
        {
          "output_type": "stream",
          "name": "stdout",
          "text": [
            "hell# world\n"
          ]
        }
      ]
    },
    {
      "cell_type": "markdown",
      "source": [
        "12. translate( ):\n",
        "* Replaces characters in a string based on a translation table created using str.maketrans()."
      ],
      "metadata": {
        "id": "joY6rF0FqZZs"
      }
    },
    {
      "cell_type": "code",
      "source": [
        "a = str.maketrans(\"aeiou\", \"12345\")\n",
        "b = \"hello world\"\n",
        "print(b.translate(a))"
      ],
      "metadata": {
        "colab": {
          "base_uri": "https://localhost:8080/"
        },
        "id": "g8E9m6Q3qYVL",
        "outputId": "1937ddbe-2b2c-44b7-b7ef-24379cae149d"
      },
      "execution_count": null,
      "outputs": [
        {
          "output_type": "stream",
          "name": "stdout",
          "text": [
            "h2ll4 w4rld\n"
          ]
        }
      ]
    },
    {
      "cell_type": "code",
      "source": [
        "print(\"hello world\".translate(str.maketrans(\"aeiou\", \"12345\")))"
      ],
      "metadata": {
        "colab": {
          "base_uri": "https://localhost:8080/"
        },
        "id": "bMDIzyodqnyS",
        "outputId": "7017ef41-a1d3-4f9d-a8c2-9155bc3e65a9"
      },
      "execution_count": null,
      "outputs": [
        {
          "output_type": "stream",
          "name": "stdout",
          "text": [
            "h2ll4 w4rld\n"
          ]
        }
      ]
    },
    {
      "cell_type": "code",
      "source": [],
      "metadata": {
        "id": "4C2L2CxvqrvX"
      },
      "execution_count": null,
      "outputs": []
    }
  ]
}