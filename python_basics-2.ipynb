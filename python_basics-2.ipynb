{
  "nbformat": 4,
  "nbformat_minor": 0,
  "metadata": {
    "colab": {
      "provenance": []
    },
    "kernelspec": {
      "name": "python3",
      "display_name": "Python 3"
    },
    "language_info": {
      "name": "python"
    }
  },
  "cells": [
    {
      "cell_type": "markdown",
      "source": [
        "# What is Data type?\n",
        "\n",
        "A data type in Python defines the type of value a variable can hold, such as numbers, text, or complex data structures.Python has built-in data types like int, float, complex, bool, str, list, tuple, set, and dict.\n"
      ],
      "metadata": {
        "id": "BLd3dtES5zuM"
      }
    },
    {
      "cell_type": "code",
      "execution_count": 5,
      "metadata": {
        "id": "J-j_6Bce4-EI",
        "colab": {
          "base_uri": "https://localhost:8080/"
        },
        "outputId": "37443979-6d03-4b6b-daee-7fccc0c3e9d1"
      },
      "outputs": [
        {
          "output_type": "stream",
          "name": "stdout",
          "text": [
            "<class 'int'>\n",
            "<class 'int'>\n",
            "<class 'int'>\n",
            "<class 'int'>\n",
            "<class 'int'>\n",
            "<class 'int'>\n",
            "<class 'int'>\n",
            "<class 'int'>\n",
            "<class 'int'>\n",
            "<class 'int'>\n"
          ]
        }
      ],
      "source": [
        "#Integer (int):\n",
        "x1 = 11\n",
        "x2 = -7\n",
        "x3 = 10000\n",
        "x4 = -555\n",
        "x5 = 41\n",
        "x6 = 0\n",
        "x7 = 12369\n",
        "x8 = 75\n",
        "x9 = -69\n",
        "x10 = 2003\n",
        "\n",
        "print(type(x1))\n",
        "print(type(x2))\n",
        "print(type(x3))\n",
        "print(type(x4))\n",
        "print(type(x5))\n",
        "print(type(x6))\n",
        "print(type(x7))\n",
        "print(type(x8))\n",
        "print(type(x9))\n",
        "print(type(x10))"
      ]
    },
    {
      "cell_type": "code",
      "source": [
        "#Float :\n",
        "y1 = 10.6\n",
        "y2 = -3.17\n",
        "y3 = 0.0\n",
        "y4 = 2.8\n",
        "y5 = -9.99\n",
        "y6 = 1.0\n",
        "y7 = 124.6789\n",
        "\n",
        "print(type(y1))\n",
        "print(type(y2))\n",
        "print(type(y3))\n",
        "print(type(y4))\n",
        "print(type(y5))\n",
        "print(type(y6))\n",
        "print(type(y7))"
      ],
      "metadata": {
        "colab": {
          "base_uri": "https://localhost:8080/"
        },
        "id": "fVGA1xrpNrZb",
        "outputId": "1464b0c1-1c56-49d2-f2bf-c59371e7176a"
      },
      "execution_count": 6,
      "outputs": [
        {
          "output_type": "stream",
          "name": "stdout",
          "text": [
            "<class 'float'>\n",
            "<class 'float'>\n",
            "<class 'float'>\n",
            "<class 'float'>\n",
            "<class 'float'>\n",
            "<class 'float'>\n",
            "<class 'float'>\n"
          ]
        }
      ]
    },
    {
      "cell_type": "code",
      "source": [
        "#Complex :\n",
        "z1 = 3 + 5j\n",
        "z2 = -1 - 5j\n",
        "z3 = 1 + 0j\n",
        "z4 = 9j\n",
        "z5 = 4 - 3j\n",
        "z6 = -3.9 + 6.9j\n",
        "z7 = 15 + 0j\n",
        "\n",
        "print(type(z1))\n",
        "print(type(z2))\n",
        "print(type(z3))\n",
        "print(type(z4))\n",
        "print(type(z5))\n",
        "print(type(z6))\n",
        "print(type(z7))"
      ],
      "metadata": {
        "colab": {
          "base_uri": "https://localhost:8080/"
        },
        "id": "B4ARfC5SNpYr",
        "outputId": "ffc44431-d109-4be3-894e-70c3c634e84d"
      },
      "execution_count": 7,
      "outputs": [
        {
          "output_type": "stream",
          "name": "stdout",
          "text": [
            "<class 'complex'>\n",
            "<class 'complex'>\n",
            "<class 'complex'>\n",
            "<class 'complex'>\n",
            "<class 'complex'>\n",
            "<class 'complex'>\n",
            "<class 'complex'>\n"
          ]
        }
      ]
    },
    {
      "cell_type": "code",
      "source": [
        "#Boolean:\n",
        "b1 = True\n",
        "b2 = False\n",
        "b3 = 5 > 1 # True\n",
        "b4 = 10 < 5 # False\n",
        "b5 = bool(1) # True\n",
        "b6 = bool(0) # False\n",
        "b7 = bool(\"Python\") # True\n",
        "\n",
        "print(type(b1))\n",
        "print(type(b2))\n",
        "print(type(b3))\n",
        "print(type(b4))\n",
        "print(type(b5))\n",
        "print(type(b6))"
      ],
      "metadata": {
        "colab": {
          "base_uri": "https://localhost:8080/"
        },
        "id": "lBfQGlEMNpB4",
        "outputId": "a0442d33-53d4-4a37-e76c-e5ca6379b537"
      },
      "execution_count": 8,
      "outputs": [
        {
          "output_type": "stream",
          "name": "stdout",
          "text": [
            "<class 'bool'>\n",
            "<class 'bool'>\n",
            "<class 'bool'>\n",
            "<class 'bool'>\n",
            "<class 'bool'>\n",
            "<class 'bool'>\n"
          ]
        }
      ]
    },
    {
      "cell_type": "markdown",
      "source": [
        "# Type Conversion :\n",
        "\n",
        "Type conversion is changing one data type to another using built-in functions like int(), float(), str(), bool()."
      ],
      "metadata": {
        "id": "_Ujioem-6PZ8"
      }
    },
    {
      "cell_type": "code",
      "source": [
        "a = 10\n",
        "b = float(a) # Convert int to float\n",
        "c = str(a) # Convert int to string\n",
        "d = int(3.14) # Convert float to int\n",
        "e = bool(0) # Convert to boolean\n",
        "\n",
        "print(a) # 10\n",
        "print(b) # 10.0\n",
        "print(c) # '10'\n",
        "print(d) # 3\n",
        "print(e) # False"
      ],
      "metadata": {
        "id": "bTQ-T0wD6bhd",
        "colab": {
          "base_uri": "https://localhost:8080/"
        },
        "outputId": "0feda2d0-8583-4152-8d4f-20c2e6220bc7"
      },
      "execution_count": 9,
      "outputs": [
        {
          "output_type": "stream",
          "name": "stdout",
          "text": [
            "10\n",
            "10.0\n",
            "10\n",
            "3\n",
            "False\n"
          ]
        }
      ]
    },
    {
      "cell_type": "markdown",
      "source": [
        "type() function is used to check the data type of a variable."
      ],
      "metadata": {
        "id": "s3F-Qyzn6cye"
      }
    },
    {
      "cell_type": "code",
      "source": [
        "print(type(a)) # <class 'int'>\n",
        "print(type(b)) # <class 'float'>\n",
        "print(type(c)) # <class 'str'>\n",
        "print(type(d)) # <class 'int'>\n",
        "print(type(e)) # <class 'bool'>\n",
        "\n"
      ],
      "metadata": {
        "colab": {
          "base_uri": "https://localhost:8080/"
        },
        "id": "xqRTXu2D6iI2",
        "outputId": "d3da7a21-237a-4fda-bcc7-11e49917b66d"
      },
      "execution_count": 10,
      "outputs": [
        {
          "output_type": "stream",
          "name": "stdout",
          "text": [
            "<class 'int'>\n",
            "<class 'float'>\n",
            "<class 'str'>\n",
            "<class 'int'>\n",
            "<class 'bool'>\n"
          ]
        }
      ]
    }
  ]
}