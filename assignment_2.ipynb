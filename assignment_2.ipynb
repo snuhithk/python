{
  "nbformat": 4,
  "nbformat_minor": 0,
  "metadata": {
    "colab": {
      "provenance": []
    },
    "kernelspec": {
      "name": "python3",
      "display_name": "Python 3"
    },
    "language_info": {
      "name": "python"
    }
  },
  "cells": [
    {
      "cell_type": "markdown",
      "source": [
        "# What is Data type?\n",
        "\n",
        "A data type in Python defines the type of value a variable can hold, such as numbers, text, or complex data structures.Python has built-in data types like int, float, complex, bool, str, list, tuple, set, and dict.\n"
      ],
      "metadata": {
        "id": "BLd3dtES5zuM"
      }
    },
    {
      "cell_type": "code",
      "execution_count": 4,
      "metadata": {
        "id": "J-j_6Bce4-EI"
      },
      "outputs": [],
      "source": [
        "#Integer (int):\n",
        "x1 = 11\n",
        "x2 = -7\n",
        "x3 = 10000\n",
        "x4 = -555\n",
        "x5 = 41\n",
        "x6 = 0\n",
        "x7 = 12369\n",
        "x8 = 75\n",
        "x9 = -69\n",
        "x10 = 2003\n",
        "\n",
        "#Float :\n",
        "y1 = 10.6\n",
        "y2 = -3.17\n",
        "y3 = 0.0\n",
        "y4 = 2.8\n",
        "y5 = -9.99\n",
        "y6 = 1.0\n",
        "y7 = 124.6789\n",
        "\n",
        "#Complex :\n",
        "z1 = 3 + 5j\n",
        "z2 = -1 - 5j\n",
        "z3 = 1 + 0j\n",
        "z4 = 9j\n",
        "z5 = 4 - 3j\n",
        "z6 = -3.9 + 6.9j\n",
        "z7 = 15 + 0j\n",
        "\n",
        "#Boolean:\n",
        "b1 = True\n",
        "b2 = False\n",
        "b3 = 5 > 1 # True\n",
        "b4 = 10 < 5 # False\n",
        "b5 = bool(1) # True\n",
        "b6 = bool(0) # False\n",
        "b7 = bool(\"Python\") # True\n",
        "\n"
      ]
    },
    {
      "cell_type": "markdown",
      "source": [
        "# Type Conversion :\n",
        "\n",
        "Type conversion is changing one data type to another using built-in functions like int(), float(), str(), bool()."
      ],
      "metadata": {
        "id": "_Ujioem-6PZ8"
      }
    },
    {
      "cell_type": "code",
      "source": [
        "a = 10\n",
        "b = float(a) # Convert int to float\n",
        "c = str(a) # Convert int to string\n",
        "d = int(3.14) # Convert float to int\n",
        "e = bool(0) # Convert to boolean"
      ],
      "metadata": {
        "id": "bTQ-T0wD6bhd"
      },
      "execution_count": 2,
      "outputs": []
    },
    {
      "cell_type": "markdown",
      "source": [
        "type() function is used to check the data type of a variable."
      ],
      "metadata": {
        "id": "s3F-Qyzn6cye"
      }
    },
    {
      "cell_type": "code",
      "source": [
        "print(type(a)) # <class 'int'>\n",
        "print(type(b)) # <class 'float'>\n",
        "print(type(c)) # <class 'str'>\n",
        "print(type(d)) # <class 'int'>\n",
        "print(type(e)) # <class 'bool'>"
      ],
      "metadata": {
        "colab": {
          "base_uri": "https://localhost:8080/"
        },
        "id": "xqRTXu2D6iI2",
        "outputId": "f545c50e-c7cd-4840-d123-ba00ff64d4f5"
      },
      "execution_count": 3,
      "outputs": [
        {
          "output_type": "stream",
          "name": "stdout",
          "text": [
            "<class 'int'>\n",
            "<class 'float'>\n",
            "<class 'str'>\n",
            "<class 'int'>\n",
            "<class 'bool'>\n"
          ]
        }
      ]
    }
  ]
}