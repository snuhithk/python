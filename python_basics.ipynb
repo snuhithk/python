{
  "nbformat": 4,
  "nbformat_minor": 0,
  "metadata": {
    "colab": {
      "provenance": []
    },
    "kernelspec": {
      "name": "python3",
      "display_name": "Python 3"
    },
    "language_info": {
      "name": "python"
    }
  },
  "cells": [
    {
      "cell_type": "code",
      "execution_count": null,
      "metadata": {
        "id": "u9twu1pUdVZD"
      },
      "outputs": [],
      "source": [
        "# what is python\n",
        "# why we use python\n",
        "# applications of python\n",
        "# explain about comments with examples\n",
        "# explain about keywords\n",
        "# explain about variable"
      ]
    },
    {
      "cell_type": "markdown",
      "source": [
        "### what is python\n",
        "Python is a programming language that is used for a variety of tasks, including web development, data analysis, and machine learning. It is known for being easy to learn, efficient, and versatile."
      ],
      "metadata": {
        "id": "TfO0Z7MMzOf1"
      }
    },
    {
      "cell_type": "markdown",
      "source": [
        "# why we use python\n",
        "\n",
        "Python is a popular programming language used for many tasks, including:\n",
        "\n",
        "\n",
        "* Data analysis\n",
        "* Machine learning\n",
        "* Web development\n",
        "* Data visualization\n",
        "* Artificial intelligence\n",
        "* Scientific computing\n",
        "* Software development\n",
        "* Search engine optimization\n",
        "* Blockchain\n"
      ],
      "metadata": {
        "id": "-2YuKBh3zaii"
      }
    },
    {
      "cell_type": "markdown",
      "source": [
        "# applications of python\n",
        "\n",
        "* game development\n",
        "* wed application\n",
        "* data science\n",
        "* machine learning\n",
        "* Image processing\n",
        "* Software development\n",
        "* Desktop GUI applications\n",
        "* Enterprise applications\n",
        "* CAD applications\n",
        "* Education and training programs\n",
        "\n"
      ],
      "metadata": {
        "id": "c-k4i7XQ1LdW"
      }
    },
    {
      "cell_type": "markdown",
      "source": [
        "# explain about comments with examples\n",
        "\n",
        "A \"comment\" in programming is a text annotation within the code that explains a specific part of the code, making it easier for developers to understand and maintain, while not being executed by the computer when the program runs; essentially, it's a note for humans to read within the code itself.\n",
        "\n",
        "def calculate_area(length, width):\n",
        "\n",
        "# This function calculates the area of a rectangle\n",
        "   area = length * width\n",
        "   \n",
        "   return area\n",
        "\n",
        "\n",
        "\n",
        "# Example usage:\n",
        "\n",
        "result = calculate_area(5, 3)\n",
        "\n",
        "print(result)  # Output: 15"
      ],
      "metadata": {
        "id": "RbalFRBW2U2B"
      }
    },
    {
      "cell_type": "markdown",
      "source": [
        "#explain about keywords\n",
        "\n",
        "Python keywords are reserved words that have specific meanings and are used to define the structure and syntax of Python. They are the building blocks of Python programs.\n",
        "\n",
        "* and\n",
        "* as\n",
        "* assert\n",
        "* async\n",
        "* await\n",
        "* break\n",
        "* class\n",
        "* continue\n",
        "* def\n",
        "* del\n",
        "* elif\n",
        "* else\n",
        "* except\n",
        "* False\n",
        "* finally\n",
        "* for\n",
        "* from\n",
        "* global\n",
        "* if\n",
        "* import\n",
        "* in\n",
        "* is\n",
        "* lambda\n",
        "* None\n",
        "* nonlocal\n",
        "* not\n",
        "* or\n",
        "* pass\n",
        "* raise\n",
        "* return\n",
        "* True\n",
        "* try\n",
        "* while\n",
        "* with\n",
        "* yield"
      ],
      "metadata": {
        "id": "GKd-SaaH3hCs"
      }
    },
    {
      "cell_type": "markdown",
      "source": [
        "# explain about variable\n",
        "\n",
        "A variable in Python is a container that stores data values. It's a reserved location in memory where data is stored and can be manipulated.\n",
        "\n",
        "* A variable is created when a value is assigned to it.\n",
        "* A variable can be reassigned a value of a different type.\n",
        "* A variable's data type is the type of data it holds.\n",
        "* A variable's name is case-sensitive.\n",
        "* A variable's name should be descriptive and not too long or too short.\n",
        "* Variable names should use lowercase letters and underscores to separate words.\n",
        "\n",
        "Examples of variables in Python\n",
        "\n",
        "x = 100,\n",
        "\n",
        "y = \"John,\n",
        "\n",
        "\n",
        "\n",
        "x = str(3),\n",
        "\n",
        "y = int(3),\n",
        "\n",
        "and z = float(3)."
      ],
      "metadata": {
        "id": "yHcCv62451WF"
      }
    }
  ]
}