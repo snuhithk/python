{
  "nbformat": 4,
  "nbformat_minor": 0,
  "metadata": {
    "colab": {
      "provenance": []
    },
    "kernelspec": {
      "name": "python3",
      "display_name": "Python 3"
    },
    "language_info": {
      "name": "python"
    }
  },
  "cells": [
    {
      "cell_type": "code",
      "execution_count": 1,
      "metadata": {
        "colab": {
          "base_uri": "https://localhost:8080/",
          "height": 105
        },
        "id": "FNGFiATcGtnl",
        "outputId": "67683ede-4bbd-415b-bb4a-b8c2697f92fd"
      },
      "outputs": [
        {
          "output_type": "execute_result",
          "data": {
            "text/plain": [
              "\"Date: 22/02/2025\\n1) What is Python?\\n2) What are the key features of Python?\\n3) How is Python different from other programming languages? 4) What are Python's data types?\\n5) What is the difference between list and tuple?\\n6) How do you comment in Python?\\n7) What is the difference between break, continue, and pass? 8) What is the difference between is and ==? 9) How do you define a function in Python? 10) What is a class and an object in Python? 11) What is inheritance in Python?\\n12) How do you handle exceptions in Python?\\nCoding Questions:\\n1) Python code to Reverse a String 2) Check if a Number is Even or Odd 3) Check if a String is a Palindrome 4) Calculate the Factorial of a Number 5) Find the GCD of Two Numbers\\n6) Remove Duplicates from a List\\n7) Find the Common Elements in Two Lists\\n8) Find the mode (most frequent element) in a list.\""
            ],
            "application/vnd.google.colaboratory.intrinsic+json": {
              "type": "string"
            }
          },
          "metadata": {},
          "execution_count": 1
        }
      ],
      "source": [
        "'''Date: 22/02/2025\n",
        "1) What is Python?\n",
        "2) What are the key features of Python?\n",
        "3) How is Python different from other programming languages?\n",
        "4) what are python's data types?\n",
        "5) What is the difference between list and tuple?\n",
        "6) How do you comment in Python?\n",
        "7) What is the difference between break, continue, and pass?\n",
        "8) What is the difference between is and ==?\n",
        "9) How do you define a function in Python?\n",
        "10) What is a class and an object in Python?\n",
        "11) What is inheritance in Python?\n",
        "12) How do you handle exceptions in Python?\n",
        "Coding Questions:\n",
        "1) Python code to Reverse a String\n",
        "2) Check if a Number is Even or Odd\n",
        "3) Check if a String is a Palindrome\n",
        "4) Calculate the Factorial of a Number\n",
        "5) Find the GCD of Two Numbers\n",
        "6) Remove Duplicates from a List\n",
        "7) Find the Common Elements in Two Lists\n",
        "8) Find the mode (most frequent element) in a list.'''"
      ]
    },
    {
      "cell_type": "markdown",
      "source": [
        "# 1. What is Python?\n",
        "\n",
        "Python is a programming language that is used for a variety of tasks, including web development, data analysis, and machine learning. It is known for being easy to learn, efficient, and versatile.\n",
        "\n",
        "developed by guido van rossam and first version release on 20 feb 1991."
      ],
      "metadata": {
        "id": "7lmv8K3ZIVvr"
      }
    },
    {
      "cell_type": "markdown",
      "source": [
        "# 2. What are the key features of Python?\n",
        "\n",
        "* python is high level programming language .\n",
        "* python is open source (free of cost)\n",
        "* python user-friendly language .\n",
        "* python can be used in many domains to create various tasks and developments.\n",
        "* domains that uses python as the programming language:\n",
        "1. Data analysis\n",
        "2. Machine learning\n",
        "3. Web development\n",
        "4. Data visualization\n",
        "5. Artificial intelligence\n",
        "6. Scientific computing\n",
        "7. Software development\n",
        "8. Search engine optimization\n",
        "9. Blockchain"
      ],
      "metadata": {
        "id": "sULstdCyJHns"
      }
    },
    {
      "cell_type": "markdown",
      "source": [
        "# 3. How is Python different from other programming languages?\n",
        "\n",
        "* python syntax is mach is easier than other languages.\n",
        "* Python is a dynamically typed language, while Java is statically typed.\n",
        "* Python's code is typically shorter than equivalent Java programs.\n",
        "* python is easy to use for high level programming and development.\n",
        "* Python is portable and can run on different types of computers with few modifications."
      ],
      "metadata": {
        "id": "KsI9MLeVKvLV"
      }
    },
    {
      "cell_type": "markdown",
      "source": [
        "#4. what are python's data types?\n",
        "\n",
        "* A data type in Python defines the type of value a variable can hold, such as numbers, text, or complex data structures.Python has built-in data types like int, float, complex, bool, str, list, tuple, set, and dict.\n",
        "* there are two type of data types in  python : - premitive (basic)  and non premitive (advanced).\n",
        "* under premitive : - int,float,complex,boolean.etc\n",
        "* under non premitive :- list,tuple,string,dictionary.\n"
      ],
      "metadata": {
        "id": "8OfVCKb1MSi4"
      }
    },
    {
      "cell_type": "markdown",
      "source": [
        "#5. What is the difference between list and tuple?\n",
        "\n",
        "#list:\n",
        "* The list() function creates a list object.\n",
        "\n",
        "* A list object is a collection which is ordered and mutable (changeable).\n",
        "\n",
        "* collection of elements (or) items (or) values. which is represented in square brackets '[ ]'. and elements are separated by comma ' , ' .\n",
        "\n",
        "#tuple:\n",
        "* Tuple is simply a pair of values grouped together in a fixed order.\n",
        "* It is immutable(we cannot modify,change,update the variable).\n"
      ],
      "metadata": {
        "id": "dFIgq1G9Mb-G"
      }
    },
    {
      "cell_type": "markdown",
      "source": [
        "# 6. How do you comment in Python?\n",
        "\n",
        "* A \"comment\" in programming is a text annotation within the code that explains a specific part of the code.\n",
        "* making it easier for developers to understand and maintain, while not being executed by the computer when the program runs; essentially.\n",
        "* it's a note for humans to read within the code itself.\n",
        "* '#' is used for comment .\n",
        "* '''.....''' also used for comment."
      ],
      "metadata": {
        "id": "x904kUq-P4yN"
      }
    },
    {
      "cell_type": "markdown",
      "source": [
        "# 7.What is the difference between break, continue, and pass?\n",
        "\n",
        "1. break:\n",
        "* It is used to exit a loop immediately.\n",
        "* Any code after break inside the loop is not executed.\n",
        "\n",
        "2. Continue:\n",
        "* It is used to skip a specific iteration in a loop.\n",
        "* The loop does not terminate; it continues with the next iteration.\n",
        "\n",
        "\n",
        "3. pass:\n",
        "* The pass statement is a placeholder and does nothing when executed.\n",
        "* It is useful when a block of code is syntactically required but not yet implemented."
      ],
      "metadata": {
        "id": "OVY86IYWQvWT"
      }
    },
    {
      "cell_type": "markdown",
      "source": [
        "# 8. What is the difference between is and ==?\n",
        "* the == operator compares the equality of objects, while the is operator compares whether objects are identical.\n"
      ],
      "metadata": {
        "id": "Kf7uczS3SCfr"
      }
    },
    {
      "cell_type": "markdown",
      "source": [
        "# 9.How do you define a function in Python?\n",
        "\n",
        "* we define a funtion ( user-defined function) using 'def' keyword\n",
        "* we can create any function as per our wish.\n",
        ""
      ],
      "metadata": {
        "id": "2VGOQ3JnSZG2"
      }
    },
    {
      "cell_type": "markdown",
      "source": [
        "# 10. What is a class and an object in Python?\n",
        "\n",
        "error"
      ],
      "metadata": {
        "id": "wUAKAW23Sxi7"
      }
    },
    {
      "cell_type": "markdown",
      "source": [
        "# 11. What is inheritance in Python?\n",
        " error"
      ],
      "metadata": {
        "id": "ZYMvw509S9I9"
      }
    },
    {
      "cell_type": "markdown",
      "source": [
        "# 12 .How do you handle exceptions in Python?\n",
        " error"
      ],
      "metadata": {
        "id": "Yl7VNRwpTDLQ"
      }
    },
    {
      "cell_type": "markdown",
      "source": [
        "# **coding question**\n"
      ],
      "metadata": {
        "id": "82r8Jv6NTM5V"
      }
    },
    {
      "cell_type": "code",
      "source": [
        "# 1. Python code to Reverse a String\n",
        "\n",
        "str=input(\"enter the string : \")\n",
        "print(str[::-1])"
      ],
      "metadata": {
        "colab": {
          "base_uri": "https://localhost:8080/"
        },
        "id": "yaUvLbupTY1O",
        "outputId": "f3360d2a-b8f1-44aa-aa78-a70035e09536"
      },
      "execution_count": 2,
      "outputs": [
        {
          "output_type": "stream",
          "name": "stdout",
          "text": [
            "enter the string : snuhith\n",
            "htihuns\n"
          ]
        }
      ]
    },
    {
      "cell_type": "code",
      "source": [
        "# 2. Check if a Number is Even or Odd\n",
        "\n",
        "num=-int(input(\"enter the number : \"))\n",
        "if num%2==0:\n",
        "  print(\"even\")\n",
        "else:\n",
        "  print(\"odd\")"
      ],
      "metadata": {
        "colab": {
          "base_uri": "https://localhost:8080/"
        },
        "id": "5X9YU1vNToEV",
        "outputId": "ac338cb0-c206-40e5-f277-e1510c0e5389"
      },
      "execution_count": 3,
      "outputs": [
        {
          "output_type": "stream",
          "name": "stdout",
          "text": [
            "enter the number : 4\n",
            "even\n"
          ]
        }
      ]
    },
    {
      "cell_type": "code",
      "source": [
        "# 3. Check if a String is a Palindrome\n",
        "\n",
        "str=input(\"enter a string :\")\n",
        "str1=str[::-1]\n",
        "\n",
        "if(str == str1 ):\n",
        "  print(\"string is palindrome\")\n",
        "else:\n",
        "  print(\"string is not a palindrome\")"
      ],
      "metadata": {
        "colab": {
          "base_uri": "https://localhost:8080/"
        },
        "id": "T6usftOZUBrZ",
        "outputId": "6cd25664-9199-4d03-d29f-e199820aa15b"
      },
      "execution_count": 4,
      "outputs": [
        {
          "output_type": "stream",
          "name": "stdout",
          "text": [
            "enter a string :oppo\n",
            "string is palindrome\n"
          ]
        }
      ]
    },
    {
      "cell_type": "code",
      "source": [
        "# 4.Calculate the Factorial of a Number\n",
        "\n",
        "num= int(input(\" enter a number :\"))\n",
        "sum=1\n",
        "while(num>0):\n",
        "  sum =sum*num\n",
        "  num =num-1\n",
        "\n",
        "print(sum)\n"
      ],
      "metadata": {
        "colab": {
          "base_uri": "https://localhost:8080/"
        },
        "id": "fg8rgmCeUtzp",
        "outputId": "3c309bf5-6ef4-4089-ea72-1439cc8dc25a"
      },
      "execution_count": 7,
      "outputs": [
        {
          "output_type": "stream",
          "name": "stdout",
          "text": [
            " enter a number :6\n",
            "720\n"
          ]
        }
      ]
    },
    {
      "cell_type": "code",
      "source": [
        "# 5. Find the GCD of Two Numbers\n",
        "import math\n",
        "math.gcd(12,14)"
      ],
      "metadata": {
        "colab": {
          "base_uri": "https://localhost:8080/"
        },
        "id": "6YIm8G4waoqc",
        "outputId": "eb0e7d4d-5955-4aed-e267-b99f59ed9b71"
      },
      "execution_count": 14,
      "outputs": [
        {
          "output_type": "execute_result",
          "data": {
            "text/plain": [
              "2"
            ]
          },
          "metadata": {},
          "execution_count": 14
        }
      ]
    },
    {
      "cell_type": "code",
      "source": [
        "# 6. Remove Duplicates from a List\n",
        "\n",
        "a=[1,2,3,4,2,3,5,6,7,8,7,9]\n",
        "\n",
        "a.remove(2)\n",
        "a.remove(3)\n",
        "a.remove(7)\n",
        "print(a)\n"
      ],
      "metadata": {
        "colab": {
          "base_uri": "https://localhost:8080/"
        },
        "id": "6cip0lDrXe4X",
        "outputId": "c705fa72-8034-4d42-948d-908954d0eb7d"
      },
      "execution_count": 9,
      "outputs": [
        {
          "output_type": "stream",
          "name": "stdout",
          "text": [
            "[1, 4, 2, 3, 5, 6, 8, 7, 9]\n"
          ]
        }
      ]
    },
    {
      "cell_type": "code",
      "source": [
        "# 7.Find the Common Elements in Two Lists\n",
        "\n",
        "a = [1,2,3,4,5,6]\n",
        "b = [5,6,7,8,9,10]\n",
        "for i in a:\n",
        "  if i in b:\n",
        "    print(i)"
      ],
      "metadata": {
        "colab": {
          "base_uri": "https://localhost:8080/"
        },
        "id": "R39jLeAsWRLU",
        "outputId": "7fae516e-7c1b-40c3-ff58-0e0f7c4bc475"
      },
      "execution_count": 8,
      "outputs": [
        {
          "output_type": "stream",
          "name": "stdout",
          "text": [
            "5\n",
            "6\n"
          ]
        }
      ]
    },
    {
      "cell_type": "code",
      "source": [
        "# 8. Find the mode (most frequent element) in a list.\n",
        "\n",
        "a= [1,2,2,2,3,3,4,5,6,7,8,9]\n",
        "i= a.count(1)\n",
        "b= a.count(2)\n",
        "c= a.count(3)\n",
        "d= a.count(4)\n",
        "e= a.count(5)\n",
        "f= a.count(6)\n",
        "g= a.count(7)\n",
        "h= a.count(8)\n",
        "j= a.count(9)\n",
        "\n",
        "\n",
        "m=max(i,b,c,d,e,f,g,h)\n",
        "if m==i:\n",
        "  print(\"1\")\n",
        "elif m==b:\n",
        "  print(\"2\")\n",
        "elif m==c:\n",
        "  print(\"3\")\n",
        "elif m==d:\n",
        "  print(\"4\")\n",
        "elif m==e:\n",
        "  print(\"5\")\n",
        "elif m==f:\n",
        "  print(\"6\")\n",
        "elif m==g:\n",
        "  print(\"7\")\n",
        "elif m==h:\n",
        "  print(\"8\")\n",
        "elif m==j:\n",
        "  print(\"9\")\n",
        "else:\n",
        "  print(\"no mode\")\n"
      ],
      "metadata": {
        "colab": {
          "base_uri": "https://localhost:8080/"
        },
        "id": "UMFz29cdXZqo",
        "outputId": "b72cc842-e825-42d9-bf52-f4965dc09d65"
      },
      "execution_count": 13,
      "outputs": [
        {
          "output_type": "stream",
          "name": "stdout",
          "text": [
            "2\n"
          ]
        }
      ]
    }
  ]
}