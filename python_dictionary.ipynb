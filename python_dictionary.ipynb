{
  "nbformat": 4,
  "nbformat_minor": 0,
  "metadata": {
    "colab": {
      "provenance": []
    },
    "kernelspec": {
      "name": "python3",
      "display_name": "Python 3"
    },
    "language_info": {
      "name": "python"
    }
  },
  "cells": [
    {
      "cell_type": "markdown",
      "source": [
        "#Dictionary( ):\n",
        "* A Python dictionary stores data in key-value pairs, where each key is unique, and it maps to a corresponding value.\n",
        "\n",
        "* Dictionaries are mutable (we can add, update, or remove key-value pairs after creation).\n",
        "\n",
        "* Dictionaries are defined using curly braces {} with keys and values separated by colons.\n",
        "\n",
        "* A dictionary cannot have duplicate keys; if a duplicate key is assigned a new value, the old value gets overwritten.\n",
        "\n",
        "* Dictionaries can contain other dictionaries, allowing the creation of complex data structures."
      ],
      "metadata": {
        "id": "8WXAMtazcz4X"
      }
    },
    {
      "cell_type": "code",
      "execution_count": 1,
      "metadata": {
        "colab": {
          "base_uri": "https://localhost:8080/"
        },
        "id": "AdpfV68Tcb4P",
        "outputId": "9cc04a56-3f1a-40c6-e3d2-282e331c6536"
      },
      "outputs": [
        {
          "output_type": "stream",
          "name": "stdout",
          "text": [
            "<class 'dict'>\n",
            "{'Name': 'snow', 'Age': 21, 'City': 'Hyderabad'}\n"
          ]
        }
      ],
      "source": [
        "person = {\"Name\":\"snow\",\"Age\":21,\"City\":\"Hyderabad\"}\n",
        "print(type(person))\n",
        "print(person)\n",
        ""
      ]
    },
    {
      "cell_type": "markdown",
      "source": [
        "#Dictionary Methods:\n",
        "1. pop( ):\n",
        "Removes the item with the specified key name.#"
      ],
      "metadata": {
        "id": "pKdQK2EodV0s"
      }
    },
    {
      "cell_type": "code",
      "source": [
        "person = {\"Name\":\"snow\",\"Age\":21,\"City\":\"Hyderabad\"}\n",
        "person.pop(\"Age\")\n",
        "print(person)"
      ],
      "metadata": {
        "colab": {
          "base_uri": "https://localhost:8080/"
        },
        "id": "wV-8twBrdR7p",
        "outputId": "614ee51a-0157-4968-b2ba-24205123754b"
      },
      "execution_count": 2,
      "outputs": [
        {
          "output_type": "stream",
          "name": "stdout",
          "text": [
            "{'Name': 'snow', 'City': 'Hyderabad'}\n"
          ]
        }
      ]
    },
    {
      "cell_type": "code",
      "source": [
        "person = {\"Name\":\"sai\",\"Age\":21,\"City\":\"Hyderabad\",\"DOB\":4}\n",
        "person.popitem()"
      ],
      "metadata": {
        "colab": {
          "base_uri": "https://localhost:8080/"
        },
        "id": "25QBqbMWdmhq",
        "outputId": "4a3d0c94-c387-4f7c-b3b3-858ebc5c1e7e"
      },
      "execution_count": 3,
      "outputs": [
        {
          "output_type": "execute_result",
          "data": {
            "text/plain": [
              "('DOB', 4)"
            ]
          },
          "metadata": {},
          "execution_count": 3
        }
      ]
    },
    {
      "cell_type": "markdown",
      "source": [
        "2. update( ):\n",
        "* Updates the dictionary with key-value pairs from another dictionary."
      ],
      "metadata": {
        "id": "l9UKhE1jdz0h"
      }
    },
    {
      "cell_type": "code",
      "source": [
        "person = {\"Name\":\"sai\",\"Age\":21,\"City\":\"Hyderabad\"}\n",
        "person.update({\"DOB\":4})\n",
        "print(person)"
      ],
      "metadata": {
        "colab": {
          "base_uri": "https://localhost:8080/"
        },
        "id": "R9HjF1F7dyI4",
        "outputId": "3073831c-4afe-4be9-8964-381ac1a2c970"
      },
      "execution_count": 4,
      "outputs": [
        {
          "output_type": "stream",
          "name": "stdout",
          "text": [
            "{'Name': 'sai', 'Age': 21, 'City': 'Hyderabad', 'DOB': 4}\n"
          ]
        }
      ]
    },
    {
      "cell_type": "markdown",
      "source": [
        "3. dict.keys():\n",
        "* Returns a view object of all the keys in the dictionary."
      ],
      "metadata": {
        "id": "WT9pNU71eHtZ"
      }
    },
    {
      "cell_type": "code",
      "source": [
        "person = {\"Name\":\"sai\",\"Age\":21,\"City\":\"Hyderabad\",\"DOB\":4}\n",
        "print(person.keys())"
      ],
      "metadata": {
        "colab": {
          "base_uri": "https://localhost:8080/"
        },
        "id": "2d-UznnVeDZF",
        "outputId": "ba55a7b5-3b51-40aa-cdd8-e3bd65d25a68"
      },
      "execution_count": 5,
      "outputs": [
        {
          "output_type": "stream",
          "name": "stdout",
          "text": [
            "dict_keys(['Name', 'Age', 'City', 'DOB'])\n"
          ]
        }
      ]
    },
    {
      "cell_type": "code",
      "source": [
        "a = {1:\"a\",2:\"b\",3:\"c\"}\n",
        "a.keys()"
      ],
      "metadata": {
        "colab": {
          "base_uri": "https://localhost:8080/"
        },
        "id": "iP0d3KOaeZjI",
        "outputId": "4bf7d131-b186-4eb8-97fa-1b4ac9b5c2d9"
      },
      "execution_count": 6,
      "outputs": [
        {
          "output_type": "execute_result",
          "data": {
            "text/plain": [
              "dict_keys([1, 2, 3])"
            ]
          },
          "metadata": {},
          "execution_count": 6
        }
      ]
    },
    {
      "cell_type": "markdown",
      "source": [
        "4. dict.values():\n",
        "* Returns a view object of all the values in the dictionary."
      ],
      "metadata": {
        "id": "_RKY6xTfejKl"
      }
    },
    {
      "cell_type": "code",
      "source": [
        "person = {\"Name\":\"sai\",\"Age\":21,\"City\":\"Hyderabad\",\"DOB\":4}\n",
        "print(person.values())"
      ],
      "metadata": {
        "colab": {
          "base_uri": "https://localhost:8080/"
        },
        "id": "_mGDpKaPeeM-",
        "outputId": "ef176fb0-ceef-40bd-981e-35faf2d2f39d"
      },
      "execution_count": 7,
      "outputs": [
        {
          "output_type": "stream",
          "name": "stdout",
          "text": [
            "dict_values(['sai', 21, 'Hyderabad', 4])\n"
          ]
        }
      ]
    },
    {
      "cell_type": "code",
      "source": [
        "a = {1:\"a\",2:\"b\",3:\"c\"}\n",
        "a.values()"
      ],
      "metadata": {
        "colab": {
          "base_uri": "https://localhost:8080/"
        },
        "id": "cQt48wvsexmb",
        "outputId": "37e414a1-34d8-4c21-ddff-75f2939673ea"
      },
      "execution_count": 8,
      "outputs": [
        {
          "output_type": "execute_result",
          "data": {
            "text/plain": [
              "dict_values(['a', 'b', 'c'])"
            ]
          },
          "metadata": {},
          "execution_count": 8
        }
      ]
    },
    {
      "cell_type": "markdown",
      "source": [
        "5. dict.items( ):\n",
        "* Returns a view object containing key-value pairs as tuples."
      ],
      "metadata": {
        "id": "OyXLkga4e8QX"
      }
    },
    {
      "cell_type": "code",
      "source": [
        "person = {\"Name\":\"sai\",\"Age\":21,\"City\":\"Hyderabad\",\"DOB\":4}\n",
        "print(person.items())"
      ],
      "metadata": {
        "colab": {
          "base_uri": "https://localhost:8080/"
        },
        "id": "htPiCjxie2Db",
        "outputId": "61007be5-8378-4f6c-da57-9efa296461bc"
      },
      "execution_count": 9,
      "outputs": [
        {
          "output_type": "stream",
          "name": "stdout",
          "text": [
            "dict_items([('Name', 'sai'), ('Age', 21), ('City', 'Hyderabad'), ('DOB', 4)])\n"
          ]
        }
      ]
    },
    {
      "cell_type": "code",
      "source": [
        "a = {1:\"a\",2:\"b\",3:\"c\"}\n",
        "a.items()"
      ],
      "metadata": {
        "colab": {
          "base_uri": "https://localhost:8080/"
        },
        "id": "ODCDMx4wfF6E",
        "outputId": "ff491028-1271-4e6f-9409-f79cc6b042a5"
      },
      "execution_count": 10,
      "outputs": [
        {
          "output_type": "execute_result",
          "data": {
            "text/plain": [
              "dict_items([(1, 'a'), (2, 'b'), (3, 'c')])"
            ]
          },
          "metadata": {},
          "execution_count": 10
        }
      ]
    },
    {
      "cell_type": "markdown",
      "source": [
        "6. dict.copy( ):\n",
        "* Returns a shallow copy of the dictionary."
      ],
      "metadata": {
        "id": "acdOIahUfMH3"
      }
    },
    {
      "cell_type": "code",
      "source": [
        "person2 = person.copy()\n",
        "print(person)\n",
        "print(person2)"
      ],
      "metadata": {
        "colab": {
          "base_uri": "https://localhost:8080/"
        },
        "id": "or9HimmyfJU3",
        "outputId": "42b67aff-e0be-4323-8d89-7ef9de177efe"
      },
      "execution_count": 11,
      "outputs": [
        {
          "output_type": "stream",
          "name": "stdout",
          "text": [
            "{'Name': 'sai', 'Age': 21, 'City': 'Hyderabad', 'DOB': 4}\n",
            "{'Name': 'sai', 'Age': 21, 'City': 'Hyderabad', 'DOB': 4}\n"
          ]
        }
      ]
    },
    {
      "cell_type": "code",
      "source": [
        "b = a.copy()\n",
        "print(a)\n",
        "print(b)"
      ],
      "metadata": {
        "colab": {
          "base_uri": "https://localhost:8080/"
        },
        "id": "7wIlj7FMfUav",
        "outputId": "0b7242e9-177d-4326-fa4d-49eac53e4e00"
      },
      "execution_count": 12,
      "outputs": [
        {
          "output_type": "stream",
          "name": "stdout",
          "text": [
            "{1: 'a', 2: 'b', 3: 'c'}\n",
            "{1: 'a', 2: 'b', 3: 'c'}\n"
          ]
        }
      ]
    },
    {
      "cell_type": "markdown",
      "source": [
        "7. dict.clear( ):\n",
        "* Removes all items from the dictionary."
      ],
      "metadata": {
        "id": "CEI1ccHbfcMi"
      }
    },
    {
      "cell_type": "code",
      "source": [
        "person.clear()\n",
        "print(person)\n",
        "print(person2)"
      ],
      "metadata": {
        "colab": {
          "base_uri": "https://localhost:8080/"
        },
        "id": "2zEjS0bIfarl",
        "outputId": "65ead0ff-60db-42ee-a722-9a792870f9f0"
      },
      "execution_count": 13,
      "outputs": [
        {
          "output_type": "stream",
          "name": "stdout",
          "text": [
            "{}\n",
            "{'Name': 'sai', 'Age': 21, 'City': 'Hyderabad', 'DOB': 4}\n"
          ]
        }
      ]
    },
    {
      "cell_type": "code",
      "source": [
        "a.clear()\n",
        "print(a)\n",
        "print(b)"
      ],
      "metadata": {
        "colab": {
          "base_uri": "https://localhost:8080/"
        },
        "id": "pc44iB2Hfkil",
        "outputId": "b0842f84-c7ba-4e80-be5d-e47354cbb54d"
      },
      "execution_count": 14,
      "outputs": [
        {
          "output_type": "stream",
          "name": "stdout",
          "text": [
            "{}\n",
            "{1: 'a', 2: 'b', 3: 'c'}\n"
          ]
        }
      ]
    }
  ]
}