{
  "nbformat": 4,
  "nbformat_minor": 0,
  "metadata": {
    "colab": {
      "provenance": []
    },
    "kernelspec": {
      "name": "python3",
      "display_name": "Python 3"
    },
    "language_info": {
      "name": "python"
    }
  },
  "cells": [
    {
      "cell_type": "markdown",
      "source": [
        "#Set( ):\n",
        "* Unordered Collection – Elements in a set have no specific order.\n",
        "\n",
        "* Duplicate values are automatically removed.\n",
        "\n",
        "* You can add or remove elements, but individual elements are immutable.\n",
        "\n",
        "* Represented Using {} and separated by \" , \".\n",
        "\n"
      ],
      "metadata": {
        "id": "rAxU4LANf-OA"
      }
    },
    {
      "cell_type": "code",
      "execution_count": 1,
      "metadata": {
        "colab": {
          "base_uri": "https://localhost:8080/"
        },
        "id": "_neI941yf3sY",
        "outputId": "11ab49cd-236a-44ba-b866-9b326ddf16ef"
      },
      "outputs": [
        {
          "output_type": "stream",
          "name": "stdout",
          "text": [
            "{1, 2, 3, 4, 5, 6}\n",
            "<class 'set'>\n"
          ]
        }
      ],
      "source": [
        "a = {1,2,3,4,5,6}\n",
        "print(a)\n",
        "print(type(a))"
      ]
    },
    {
      "cell_type": "markdown",
      "source": [
        "#We can convert a list into a set using the set() function."
      ],
      "metadata": {
        "id": "zIdQdMwwgNhc"
      }
    },
    {
      "cell_type": "code",
      "source": [
        "a = set([1,2,3,4,5,6])\n",
        "print(a)\n",
        "print(type(a))"
      ],
      "metadata": {
        "colab": {
          "base_uri": "https://localhost:8080/"
        },
        "id": "YDNmaIVdgKtN",
        "outputId": "46e45075-8af3-4a12-bd79-5ef42d9516da"
      },
      "execution_count": 2,
      "outputs": [
        {
          "output_type": "stream",
          "name": "stdout",
          "text": [
            "{1, 2, 3, 4, 5, 6}\n",
            "<class 'set'>\n"
          ]
        }
      ]
    },
    {
      "cell_type": "markdown",
      "source": [
        "#Duplicates are automatically removed in the set."
      ],
      "metadata": {
        "id": "cb7o9sAjgWQY"
      }
    },
    {
      "cell_type": "code",
      "source": [
        "a = {1,2,3,4,5,1,2,4}\n",
        "print(a)\n",
        "print(type(a))"
      ],
      "metadata": {
        "colab": {
          "base_uri": "https://localhost:8080/"
        },
        "id": "GXCksMtPgTDF",
        "outputId": "8e6b9a82-dea3-44c0-d6f9-e3cb78032a8f"
      },
      "execution_count": 6,
      "outputs": [
        {
          "output_type": "stream",
          "name": "stdout",
          "text": [
            "{1, 2, 3, 4, 5}\n",
            "<class 'set'>\n"
          ]
        }
      ]
    },
    {
      "cell_type": "markdown",
      "source": [
        "#Set Methods:\n",
        "1. add():\n",
        "Adds an element to the set."
      ],
      "metadata": {
        "id": "3P3fqPpxgfxR"
      }
    },
    {
      "cell_type": "code",
      "source": [
        "a = {1,2,3,4}\n",
        "a.add(5)\n",
        "print(a)"
      ],
      "metadata": {
        "colab": {
          "base_uri": "https://localhost:8080/"
        },
        "id": "ZfSkrShDgcdV",
        "outputId": "ba5ed9a0-a895-4e0e-e7ce-4f952a525e4d"
      },
      "execution_count": 5,
      "outputs": [
        {
          "output_type": "stream",
          "name": "stdout",
          "text": [
            "{1, 2, 3, 4, 5}\n"
          ]
        }
      ]
    },
    {
      "cell_type": "markdown",
      "source": [
        "2. remove( ):\n",
        "* Removes the specified element.\n",
        "* raises an error if not found."
      ],
      "metadata": {
        "id": "aqXZFdosgwpX"
      }
    },
    {
      "cell_type": "code",
      "source": [
        "a = {1,2,3,4,5}\n",
        "a.remove(5)\n",
        "print(a)\n",
        ""
      ],
      "metadata": {
        "colab": {
          "base_uri": "https://localhost:8080/"
        },
        "id": "NRukglEcglhm",
        "outputId": "79afaff2-6922-400d-8cbd-79a88f3412ed"
      },
      "execution_count": 7,
      "outputs": [
        {
          "output_type": "stream",
          "name": "stdout",
          "text": [
            "{1, 2, 3, 4}\n"
          ]
        }
      ]
    },
    {
      "cell_type": "markdown",
      "source": [
        "3. update( ):\n",
        "* used to add multiple elements from another set, list, tuple, or any iterable to an existing set."
      ],
      "metadata": {
        "id": "8w0UZcZghHRx"
      }
    },
    {
      "cell_type": "code",
      "source": [
        "a = {1,2,3,4,5}\n",
        "b = {6,7,8,9,10}\n",
        "a.update(b)\n",
        "print(a)"
      ],
      "metadata": {
        "colab": {
          "base_uri": "https://localhost:8080/"
        },
        "id": "YpV21gyXhC-y",
        "outputId": "c6322e78-984a-478b-e44e-715911fcb542"
      },
      "execution_count": 8,
      "outputs": [
        {
          "output_type": "stream",
          "name": "stdout",
          "text": [
            "{1, 2, 3, 4, 5, 6, 7, 8, 9, 10}\n"
          ]
        }
      ]
    },
    {
      "cell_type": "markdown",
      "source": [
        "4. clear( ):\n",
        "* Used to remove all elements from a set, making it an empty set."
      ],
      "metadata": {
        "id": "-WB_RImJhUtc"
      }
    },
    {
      "cell_type": "code",
      "source": [
        "a.clear()\n",
        "print(a)"
      ],
      "metadata": {
        "colab": {
          "base_uri": "https://localhost:8080/"
        },
        "id": "nj5LDWHKhReY",
        "outputId": "7d19ae61-4eb8-4dd9-d9fd-46360cf3a2c0"
      },
      "execution_count": 9,
      "outputs": [
        {
          "output_type": "stream",
          "name": "stdout",
          "text": [
            "set()\n"
          ]
        }
      ]
    },
    {
      "cell_type": "markdown",
      "source": [
        "#Set Operators:\n",
        "1. union( ):\n",
        "* The union() method combines two or more sets.\n",
        "* Returning a new set with all unique elements."
      ],
      "metadata": {
        "id": "vzpOoyiYhgsY"
      }
    },
    {
      "cell_type": "code",
      "source": [
        "a = {1,2,3,4,5}\n",
        "b = {4,5,6,7,8}\n",
        "a.union(b)"
      ],
      "metadata": {
        "colab": {
          "base_uri": "https://localhost:8080/"
        },
        "id": "OQzjZy5LhdH_",
        "outputId": "ff7a0fc9-048b-438d-e6eb-7d7c5d367b23"
      },
      "execution_count": 10,
      "outputs": [
        {
          "output_type": "execute_result",
          "data": {
            "text/plain": [
              "{1, 2, 3, 4, 5, 6, 7, 8}"
            ]
          },
          "metadata": {},
          "execution_count": 10
        }
      ]
    },
    {
      "cell_type": "code",
      "source": [
        "a = {1,2,3,4,5}\n",
        "b = {4,5,6,7,8}\n",
        "a|b"
      ],
      "metadata": {
        "colab": {
          "base_uri": "https://localhost:8080/"
        },
        "id": "cE0nMxBIhtRi",
        "outputId": "d66cd322-b324-4ad3-ac5e-0c281e6e1278"
      },
      "execution_count": 11,
      "outputs": [
        {
          "output_type": "execute_result",
          "data": {
            "text/plain": [
              "{1, 2, 3, 4, 5, 6, 7, 8}"
            ]
          },
          "metadata": {},
          "execution_count": 11
        }
      ]
    },
    {
      "cell_type": "markdown",
      "source": [
        "2. Intersection():\n",
        "\n",
        "* Returns a new set containing only the common elements of two or more sets.\n",
        "* The result contains only unique elements that exist in all sets."
      ],
      "metadata": {
        "id": "GZQV_-kphzAD"
      }
    },
    {
      "cell_type": "code",
      "source": [
        "a = {1,2,3,4,5}\n",
        "b = {4,5,6,7,8}\n",
        "a.intersection(b)"
      ],
      "metadata": {
        "colab": {
          "base_uri": "https://localhost:8080/"
        },
        "id": "WUmp2kPJhwCO",
        "outputId": "6c0866f2-5da2-4a69-e698-d237208cb8f7"
      },
      "execution_count": 12,
      "outputs": [
        {
          "output_type": "execute_result",
          "data": {
            "text/plain": [
              "{4, 5}"
            ]
          },
          "metadata": {},
          "execution_count": 12
        }
      ]
    },
    {
      "cell_type": "code",
      "source": [
        "a = {1,2,3,4,5}\n",
        "b = {4,5,6,7,8}\n",
        "a&b"
      ],
      "metadata": {
        "colab": {
          "base_uri": "https://localhost:8080/"
        },
        "id": "E3oRjxGMh626",
        "outputId": "18b4c88c-173e-4674-a72c-2d4f31cf79f0"
      },
      "execution_count": 13,
      "outputs": [
        {
          "output_type": "execute_result",
          "data": {
            "text/plain": [
              "{4, 5}"
            ]
          },
          "metadata": {},
          "execution_count": 13
        }
      ]
    },
    {
      "cell_type": "markdown",
      "source": [
        "3. Difference of ('A-B'):\n",
        "* Returns a new set containing elements that are in set A but not in set B."
      ],
      "metadata": {
        "id": "KPBshU6aiBXv"
      }
    },
    {
      "cell_type": "code",
      "source": [
        "a = {1,2,3,4,5}\n",
        "b = {4,5,6,7,8}\n",
        "a-b"
      ],
      "metadata": {
        "colab": {
          "base_uri": "https://localhost:8080/"
        },
        "id": "iF9kGt3nh9R9",
        "outputId": "7e64aced-79c7-40bf-e706-22ffd1efce84"
      },
      "execution_count": 14,
      "outputs": [
        {
          "output_type": "execute_result",
          "data": {
            "text/plain": [
              "{1, 2, 3}"
            ]
          },
          "metadata": {},
          "execution_count": 14
        }
      ]
    },
    {
      "cell_type": "markdown",
      "source": [
        "4. Difference of ('B-A'):\n",
        "* Returns a new set containing elements that are in set B but not in set A.\n"
      ],
      "metadata": {
        "id": "bF5vxpcKiO8O"
      }
    },
    {
      "cell_type": "code",
      "source": [
        "a = {1,2,3,4,5}\n",
        "b = {4,5,6,7,8}\n",
        "b-a"
      ],
      "metadata": {
        "colab": {
          "base_uri": "https://localhost:8080/"
        },
        "id": "UO69-u-FiMFc",
        "outputId": "6f1776f5-2bec-4bdc-fc09-14dffca05b76"
      },
      "execution_count": 15,
      "outputs": [
        {
          "output_type": "execute_result",
          "data": {
            "text/plain": [
              "{6, 7, 8}"
            ]
          },
          "metadata": {},
          "execution_count": 15
        }
      ]
    },
    {
      "cell_type": "code",
      "source": [
        "a = {1,2,3,4,5}\n",
        "b = {4,5,6,7,8}\n",
        "a-b"
      ],
      "metadata": {
        "colab": {
          "base_uri": "https://localhost:8080/"
        },
        "id": "6KH2ciKOiZJQ",
        "outputId": "14c913a7-359e-415f-93af-3065647da569"
      },
      "execution_count": 16,
      "outputs": [
        {
          "output_type": "execute_result",
          "data": {
            "text/plain": [
              "{1, 2, 3}"
            ]
          },
          "metadata": {},
          "execution_count": 16
        }
      ]
    },
    {
      "cell_type": "markdown",
      "source": [
        "5. Symmetric_difference( ):\n",
        "* Returns a new set containing elements that are in either set A or set B, but not in both.\n",
        "\n",
        "* You can use the ^ (caret) operator.\n",
        "\n",
        "* It returns a new set instead of modifying existing ones.\n",
        "\n",
        "* The result contains only unique elements."
      ],
      "metadata": {
        "id": "ME6O7JZAie6j"
      }
    },
    {
      "cell_type": "code",
      "source": [
        "a = {1, 2, 3, 4}\n",
        "b = {3, 4, 5, 6}\n",
        "result = a.symmetric_difference(b)\n",
        "print(result)"
      ],
      "metadata": {
        "colab": {
          "base_uri": "https://localhost:8080/"
        },
        "id": "Yc-FyUyzicBI",
        "outputId": "c98f270b-830d-461a-f2b2-27d846e294c9"
      },
      "execution_count": 17,
      "outputs": [
        {
          "output_type": "stream",
          "name": "stdout",
          "text": [
            "{1, 2, 5, 6}\n"
          ]
        }
      ]
    },
    {
      "cell_type": "code",
      "source": [
        "a = {1, 2, 3, 4}\n",
        "b = {3, 4, 5, 6}\n",
        "a^b"
      ],
      "metadata": {
        "colab": {
          "base_uri": "https://localhost:8080/"
        },
        "id": "pcyq9Ua9ip4G",
        "outputId": "802e2286-59e9-4c04-9e35-a42cefeda804"
      },
      "execution_count": 18,
      "outputs": [
        {
          "output_type": "execute_result",
          "data": {
            "text/plain": [
              "{1, 2, 5, 6}"
            ]
          },
          "metadata": {},
          "execution_count": 18
        }
      ]
    }
  ]
}